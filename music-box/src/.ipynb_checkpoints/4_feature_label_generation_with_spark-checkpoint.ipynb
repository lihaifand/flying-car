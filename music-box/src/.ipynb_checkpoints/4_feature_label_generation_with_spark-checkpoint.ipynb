{
 "cells": [
  {
   "cell_type": "markdown",
   "metadata": {},
   "source": [
    "# Load data into Spark DataFrame"
   ]
  },
  {
   "cell_type": "code",
   "execution_count": 1,
   "metadata": {},
   "outputs": [],
   "source": [
    "from pyspark import SparkContext\n",
    "from pyspark.sql import SparkSession\n",
    "import pyspark.sql.functions as F\n",
    "spark = SparkSession.builder.master(\"local\").appName(\"Music\").getOrCreate()\n",
    "# We use matplotlib for plotting\n",
    "import matplotlib.pyplot as plt\n",
    "\n",
    "# This statement allow to display plot without asking to\n",
    "%matplotlib inline"
   ]
  },
  {
   "cell_type": "code",
   "execution_count": 2,
   "metadata": {},
   "outputs": [
    {
     "data": {
      "text/plain": [
       "DataFrame[uid: string, event: string, song_id: string, date: string]"
      ]
     },
     "execution_count": 2,
     "metadata": {},
     "output_type": "execute_result"
    }
   ],
   "source": [
    "df = spark.read.csv('../data/event_ds.csv',header=True).cache()\n",
    "df"
   ]
  },
  {
   "cell_type": "code",
   "execution_count": 3,
   "metadata": {},
   "outputs": [
    {
     "name": "stdout",
     "output_type": "stream",
     "text": [
      "+---------+-----+--------+----------+\n",
      "|      uid|event| song_id|      date|\n",
      "+---------+-----+--------+----------+\n",
      "|168551430|    P| 1179220|2017-03-30|\n",
      "|168551548|    P| 1474915|2017-03-30|\n",
      "|168551323|    P|16889394|2017-03-30|\n",
      "|168551546|    P| 1474915|2017-03-30|\n",
      "|168548714|    P|23492572|2017-03-30|\n",
      "|168550237|    P| 6511070|2017-03-30|\n",
      "|168550890|    P|23491657|2017-03-30|\n",
      "|168542653|    P|  133095|2017-03-30|\n",
      "|168548099|    P| 4984002|2017-03-30|\n",
      "|168551414|    P|  727162|2017-03-30|\n",
      "|168543348|    P|       0|2017-03-30|\n",
      "|168550352|    P|       0|2017-03-30|\n",
      "|168550970|    P|  277286|2017-03-30|\n",
      "|168550949|    P|  360750|2017-03-30|\n",
      "|168545975|    P| 3213069|2017-03-30|\n",
      "|168551197|    P| 7078121|2017-03-30|\n",
      "|168546993|    P| 1024747|2017-03-30|\n",
      "|168543348|    P|       0|2017-03-30|\n",
      "|168551585|    P| 8131487|2017-03-30|\n",
      "|168548714|    P|23490801|2017-03-30|\n",
      "+---------+-----+--------+----------+\n",
      "only showing top 20 rows\n",
      "\n"
     ]
    }
   ],
   "source": [
    "df.show()"
   ]
  },
  {
   "cell_type": "code",
   "execution_count": 4,
   "metadata": {},
   "outputs": [
    {
     "data": {
      "text/plain": [
       "DataFrame[uid: string, event: string, song_id: string, date: date]"
      ]
     },
     "execution_count": 4,
     "metadata": {},
     "output_type": "execute_result"
    }
   ],
   "source": [
    "# create new or overwrite original field with withColumn\n",
    "df = df.withColumn('date',F.col('date').cast('date'))\n",
    "df"
   ]
  },
  {
   "cell_type": "code",
   "execution_count": 5,
   "metadata": {},
   "outputs": [
    {
     "name": "stdout",
     "output_type": "stream",
     "text": [
      "+---------+-----+--------+----------+\n",
      "|      uid|event| song_id|      date|\n",
      "+---------+-----+--------+----------+\n",
      "|168551430|    P| 1179220|2017-03-30|\n",
      "|168551548|    P| 1474915|2017-03-30|\n",
      "|168551323|    P|16889394|2017-03-30|\n",
      "|168551546|    P| 1474915|2017-03-30|\n",
      "|168548714|    P|23492572|2017-03-30|\n",
      "|168550237|    P| 6511070|2017-03-30|\n",
      "|168550890|    P|23491657|2017-03-30|\n",
      "|168542653|    P|  133095|2017-03-30|\n",
      "|168548099|    P| 4984002|2017-03-30|\n",
      "|168551414|    P|  727162|2017-03-30|\n",
      "|168543348|    P|       0|2017-03-30|\n",
      "|168550352|    P|       0|2017-03-30|\n",
      "|168550970|    P|  277286|2017-03-30|\n",
      "|168550949|    P|  360750|2017-03-30|\n",
      "|168545975|    P| 3213069|2017-03-30|\n",
      "|168551197|    P| 7078121|2017-03-30|\n",
      "|168546993|    P| 1024747|2017-03-30|\n",
      "|168543348|    P|       0|2017-03-30|\n",
      "|168551585|    P| 8131487|2017-03-30|\n",
      "|168548714|    P|23490801|2017-03-30|\n",
      "+---------+-----+--------+----------+\n",
      "only showing top 20 rows\n",
      "\n"
     ]
    }
   ],
   "source": [
    "df.show()"
   ]
  },
  {
   "cell_type": "markdown",
   "metadata": {},
   "source": [
    "# Some exploration"
   ]
  },
  {
   "cell_type": "code",
   "execution_count": 6,
   "metadata": {},
   "outputs": [
    {
     "data": {
      "text/plain": [
       "12331951"
      ]
     },
     "execution_count": 6,
     "metadata": {},
     "output_type": "execute_result"
    }
   ],
   "source": [
    "# simple count rows\n",
    "df.count()"
   ]
  },
  {
   "cell_type": "code",
   "execution_count": 7,
   "metadata": {},
   "outputs": [
    {
     "data": {
      "text/plain": [
       "59308"
      ]
     },
     "execution_count": 7,
     "metadata": {},
     "output_type": "execute_result"
    }
   ],
   "source": [
    "# select operation, count distinct rows\n",
    "df.select('uid').distinct().count()"
   ]
  },
  {
   "cell_type": "code",
   "execution_count": 8,
   "metadata": {},
   "outputs": [
    {
     "name": "stdout",
     "output_type": "stream",
     "text": [
      "+-----+--------+\n",
      "|event|   count|\n",
      "+-----+--------+\n",
      "|    D|  635566|\n",
      "|    S|  769664|\n",
      "|    P|10926721|\n",
      "+-----+--------+\n",
      "\n"
     ]
    }
   ],
   "source": [
    "# group by aggregation\n",
    "df.groupBy('event').count().show()"
   ]
  },
  {
   "cell_type": "code",
   "execution_count": 9,
   "metadata": {},
   "outputs": [
    {
     "name": "stdout",
     "output_type": "stream",
     "text": [
      "+-----+--------+--------+\n",
      "|event|   count| max_uid|\n",
      "+-----+--------+--------+\n",
      "|    D|  635566|97911810|\n",
      "|    S|  769664| 9920471|\n",
      "|    P|10926721|99997797|\n",
      "+-----+--------+--------+\n",
      "\n"
     ]
    }
   ],
   "source": [
    "# group by aggregation, more general (count, min, max, mean), multiple at once\n",
    "df.groupBy('event').agg(\n",
    "    F.count(F.col('uid')).alias('count'),\n",
    "    F.max(F.col('uid')).alias('max_uid')\n",
    ").show()"
   ]
  },
  {
   "cell_type": "code",
   "execution_count": 10,
   "metadata": {},
   "outputs": [
    {
     "name": "stdout",
     "output_type": "stream",
     "text": [
      "+----------+-----+------+\n",
      "|      date|event| count|\n",
      "+----------+-----+------+\n",
      "|2017-04-01|    D| 30658|\n",
      "|2017-04-01|    P|485899|\n",
      "|2017-04-01|    S| 31959|\n",
      "|2017-04-02|    D| 26418|\n",
      "|2017-04-02|    P|443671|\n",
      "|2017-04-02|    S| 29493|\n",
      "|2017-04-03|    D| 21341|\n",
      "|2017-04-03|    P|254567|\n",
      "|2017-04-03|    S| 26355|\n",
      "|2017-04-04|    D| 20493|\n",
      "|2017-04-04|    P|374905|\n",
      "|2017-04-04|    S| 23738|\n",
      "|2017-04-05|    D| 16620|\n",
      "|2017-04-05|    P|311488|\n",
      "|2017-04-05|    S| 19591|\n",
      "+----------+-----+------+\n",
      "\n"
     ]
    }
   ],
   "source": [
    "# filter operation\n",
    "# group by aggregation\n",
    "# order by operation\n",
    "df.filter((F.col('date')>='2017-04-01') & (F.col('date')<='2017-04-05')) \\\n",
    "                    .groupBy('date','event').count() \\\n",
    "                    .orderBy('date','event').show()"
   ]
  },
  {
   "cell_type": "code",
   "execution_count": 11,
   "metadata": {},
   "outputs": [
    {
     "name": "stderr",
     "output_type": "stream",
     "text": [
      "/Users/hli/anaconda/envs/carnd-term1/lib/python3.5/importlib/_bootstrap.py:222: RuntimeWarning: numpy.dtype size changed, may indicate binary incompatibility. Expected 96, got 88\n",
      "  return f(*args, **kwds)\n"
     ]
    }
   ],
   "source": [
    "date_count = df.groupBy('date').count().toPandas()"
   ]
  },
  {
   "cell_type": "code",
   "execution_count": 12,
   "metadata": {},
   "outputs": [
    {
     "data": {
      "text/plain": [
       "(array([736419., 736426., 736433., 736440., 736447., 736454., 736461.]),\n",
       " <a list of 7 Text xticklabel objects>)"
      ]
     },
     "execution_count": 12,
     "metadata": {},
     "output_type": "execute_result"
    },
    {
     "data": {
      "image/png": "[encoded data removed]",
      "text/plain": [
       "<matplotlib.figure.Figure at 0x1102cf588>"
      ]
     },
     "metadata": {},
     "output_type": "display_data"
    }
   ],
   "source": [
    "plt.bar(date_count['date'],date_count['count'])\n",
    "plt.xticks(rotation='vertical')"
   ]
  },
  {
   "cell_type": "markdown",
   "metadata": {},
   "source": [
    "# Label definition"
   ]
  },
  {
   "cell_type": "code",
   "execution_count": 13,
   "metadata": {},
   "outputs": [
    {
     "name": "stdout",
     "output_type": "stream",
     "text": [
      "label window: 2017-04-29 ~ 2017-05-12 days: 14\n",
      "feature window: 2017-03-30 ~ 2017-04-28 days: 30\n"
     ]
    }
   ],
   "source": [
    "import datetime\n",
    "from dateutil import parser\n",
    "\n",
    "label_window_size = 14\n",
    "label_window_end_date = parser.parse('2017-05-12').date()\n",
    "label_window_start_date = label_window_end_date - datetime.timedelta(label_window_size - 1)\n",
    "print('label window:',label_window_start_date,'~',label_window_end_date,'days:',label_window_size)\n",
    "\n",
    "feature_window_size = 30\n",
    "feature_window_end_date = label_window_start_date - datetime.timedelta(1)\n",
    "feature_window_start_date = feature_window_end_date  - datetime.timedelta(feature_window_size - 1)\n",
    "print('feature window:',feature_window_start_date,'~',feature_window_end_date,'days:',feature_window_size)"
   ]
  },
  {
   "cell_type": "code",
   "execution_count": 14,
   "metadata": {},
   "outputs": [],
   "source": [
    "# all the uid we will model\n",
    "df_model_uid = df.filter((F.col('date')>=feature_window_start_date) & (F.col('date')<=feature_window_end_date))\\\n",
    "                    .select('uid').distinct()\n",
    "# active in label window (active label=0)\n",
    "df_active_uid_in_label_window = df.filter((F.col('date')>=label_window_start_date) & (F.col('date')<=label_window_end_date))\\\n",
    "                            .select('uid').distinct().withColumn('label',F.lit(0))"
   ]
  },
  {
   "cell_type": "code",
   "execution_count": 15,
   "metadata": {},
   "outputs": [],
   "source": [
    "# prepare label data (churn label=1; active label=0)\n",
    "df_label = df_model_uid.join(df_active_uid_in_label_window,on=['uid'],how='left')\n",
    "df_label = df_label.fillna(1)"
   ]
  },
  {
   "cell_type": "code",
   "execution_count": 16,
   "metadata": {},
   "outputs": [
    {
     "name": "stdout",
     "output_type": "stream",
     "text": [
      "+-----+-----+\n",
      "|label|count|\n",
      "+-----+-----+\n",
      "|    1|36126|\n",
      "|    0|21861|\n",
      "+-----+-----+\n",
      "\n"
     ]
    }
   ],
   "source": [
    "df_label.groupBy('label').count().show()"
   ]
  },
  {
   "cell_type": "markdown",
   "metadata": {},
   "source": [
    "# Feature generation"
   ]
  },
  {
   "cell_type": "code",
   "execution_count": 17,
   "metadata": {},
   "outputs": [],
   "source": [
    "# event_data in feature_window\n",
    "df_feature_window = df.filter((F.col('date')>=feature_window_start_date) & (F.col('date')<=feature_window_end_date))\n"
   ]
  },
  {
   "cell_type": "markdown",
   "metadata": {},
   "source": [
    "### Frequency features"
   ]
  },
  {
   "cell_type": "markdown",
   "metadata": {},
   "source": [
    "##### method 1"
   ]
  },
  {
   "cell_type": "code",
   "execution_count": 18,
   "metadata": {},
   "outputs": [],
   "source": [
    "# define a function to generate frequency features\n",
    "def frequency_feature_generation(df,event,time_window,snapshot_date):\n",
    "    \"\"\"\n",
    "    generate frequency features for one event type and one time window\n",
    "    \"\"\"\n",
    "    df_feature = df.filter(F.col('event')==event)\\\n",
    "            .filter((F.col('date')>=snapshot_date-datetime.timedelta(time_window-1)) & (F.col('date')<=snapshot_date))\\\n",
    "            .groupBy('uid').agg(F.count(F.col('uid')).alias('freq_'+event+'_last_'+str(time_window)))\n",
    "    return df_feature"
   ]
  },
  {
   "cell_type": "code",
   "execution_count": 19,
   "metadata": {},
   "outputs": [],
   "source": [
    "# generate one feature\n",
    "event = 'S'\n",
    "time_window = 3\n",
    "snapshot_date = feature_window_end_date\n",
    "df_feature = frequency_feature_generation(df_feature_window,event,time_window,snapshot_date)"
   ]
  },
  {
   "cell_type": "code",
   "execution_count": 20,
   "metadata": {},
   "outputs": [
    {
     "name": "stdout",
     "output_type": "stream",
     "text": [
      "+---------+-------------+\n",
      "|      uid|freq_S_last_3|\n",
      "+---------+-------------+\n",
      "|167973428|            2|\n",
      "|167762174|            1|\n",
      "|168079950|           23|\n",
      "|168484137|            1|\n",
      "|168464445|            2|\n",
      "+---------+-------------+\n",
      "only showing top 5 rows\n",
      "\n"
     ]
    }
   ],
   "source": [
    "df_feature.show(5)"
   ]
  },
  {
   "cell_type": "code",
   "execution_count": 21,
   "metadata": {},
   "outputs": [],
   "source": [
    "# generate frequency features for all event_list, time_window_list\n",
    "event_list = ['P','D','S']\n",
    "time_window_list = [1,3,7,14,30]\n",
    "df_feature_list = []\n",
    "for event in event_list:\n",
    "    for time_window in time_window_list:\n",
    "        df_feature_list.append(frequency_feature_generation(df_feature_window,event,time_window,snapshot_date))\n"
   ]
  },
  {
   "cell_type": "code",
   "execution_count": 22,
   "metadata": {},
   "outputs": [
    {
     "data": {
      "text/plain": [
       "[DataFrame[uid: string, freq_P_last_1: bigint],\n",
       " DataFrame[uid: string, freq_P_last_3: bigint],\n",
       " DataFrame[uid: string, freq_P_last_7: bigint],\n",
       " DataFrame[uid: string, freq_P_last_14: bigint],\n",
       " DataFrame[uid: string, freq_P_last_30: bigint],\n",
       " DataFrame[uid: string, freq_D_last_1: bigint],\n",
       " DataFrame[uid: string, freq_D_last_3: bigint],\n",
       " DataFrame[uid: string, freq_D_last_7: bigint],\n",
       " DataFrame[uid: string, freq_D_last_14: bigint],\n",
       " DataFrame[uid: string, freq_D_last_30: bigint],\n",
       " DataFrame[uid: string, freq_S_last_1: bigint],\n",
       " DataFrame[uid: string, freq_S_last_3: bigint],\n",
       " DataFrame[uid: string, freq_S_last_7: bigint],\n",
       " DataFrame[uid: string, freq_S_last_14: bigint],\n",
       " DataFrame[uid: string, freq_S_last_30: bigint]]"
      ]
     },
     "execution_count": 22,
     "metadata": {},
     "output_type": "execute_result"
    }
   ],
   "source": [
    "df_feature_list"
   ]
  },
  {
   "cell_type": "markdown",
   "metadata": {},
   "source": [
    "##### method 2: too many dfs to join? do it another way"
   ]
  },
  {
   "cell_type": "code",
   "execution_count": 23,
   "metadata": {},
   "outputs": [],
   "source": [
    "# define a function to generate frequency features for a list of time windows\n",
    "# using when().otherwise(), and list comprehension trick!\n",
    "def frequency_feature_generation_time_windows(df,event,time_window_list,snapshot_date):\n",
    "    \"\"\"\n",
    "    generate frequency features for one event type and a list of time windows\n",
    "    \"\"\"\n",
    "    df_feature = df \\\n",
    "        .filter(F.col('event')==event) \\\n",
    "        .groupBy('uid') \\\n",
    "        .agg(*[F.sum(F.when((F.col('date')>=snapshot_date-datetime.timedelta(time_window-1)) & (F.col('date')<=snapshot_date),1).otherwise(0)).alias('freq_'+event+'_last_'+str(time_window)) \\\n",
    "                for time_window in time_window_list]\n",
    "            )# *[] opens list and make them comma separated\n",
    "    return df_feature"
   ]
  },
  {
   "cell_type": "code",
   "execution_count": 24,
   "metadata": {},
   "outputs": [
    {
     "name": "stdout",
     "output_type": "stream",
     "text": [
      "+---------+-------------+-------------+-------------+--------------+--------------+\n",
      "|      uid|freq_S_last_1|freq_S_last_3|freq_S_last_7|freq_S_last_14|freq_S_last_30|\n",
      "+---------+-------------+-------------+-------------+--------------+--------------+\n",
      "|168000523|            0|            0|            0|            33|            43|\n",
      "|166454870|            0|            0|            1|             1|            18|\n",
      "|167743862|            0|            0|            0|             0|             1|\n",
      "|167907760|            0|            0|            0|             6|            61|\n",
      "|167707432|            0|            0|           24|            26|            34|\n",
      "+---------+-------------+-------------+-------------+--------------+--------------+\n",
      "only showing top 5 rows\n",
      "\n"
     ]
    }
   ],
   "source": [
    "# generate one event type, all time windows \n",
    "event = 'S'\n",
    "time_window_list = [1,3,7,14,30]\n",
    "snapshot_date = feature_window_end_date\n",
    "df_feature = frequency_feature_generation_time_windows(df_feature_window,event,time_window_list,snapshot_date)\n",
    "df_feature.show(5)"
   ]
  },
  {
   "cell_type": "code",
   "execution_count": 25,
   "metadata": {},
   "outputs": [],
   "source": [
    "# generate frequency features for all event_list, time_window_list\n",
    "event_list = ['P','D','S']\n",
    "time_window_list = [1,3,7,14,30]\n",
    "df_feature_list = []\n",
    "for event in event_list:\n",
    "    df_feature_list.append(frequency_feature_generation_time_windows(df_feature_window,event,time_window_list,snapshot_date))\n"
   ]
  },
  {
   "cell_type": "code",
   "execution_count": 26,
   "metadata": {},
   "outputs": [
    {
     "data": {
      "text/plain": [
       "[DataFrame[uid: string, freq_P_last_1: bigint, freq_P_last_3: bigint, freq_P_last_7: bigint, freq_P_last_14: bigint, freq_P_last_30: bigint],\n",
       " DataFrame[uid: string, freq_D_last_1: bigint, freq_D_last_3: bigint, freq_D_last_7: bigint, freq_D_last_14: bigint, freq_D_last_30: bigint],\n",
       " DataFrame[uid: string, freq_S_last_1: bigint, freq_S_last_3: bigint, freq_S_last_7: bigint, freq_S_last_14: bigint, freq_S_last_30: bigint]]"
      ]
     },
     "execution_count": 26,
     "metadata": {},
     "output_type": "execute_result"
    }
   ],
   "source": [
    "df_feature_list"
   ]
  },
  {
   "cell_type": "markdown",
   "metadata": {},
   "source": [
    "### Recency features"
   ]
  },
  {
   "cell_type": "code",
   "execution_count": 27,
   "metadata": {},
   "outputs": [],
   "source": [
    "# defined as days from last x event\n",
    "# can generate one feature for each type of event and all event\n",
    "event_list = ['P', 'D', 'S', ['P', 'D', 'S']]\n",
    "event_list\n",
    "def recency_feature_generation(df,event,snapshot_date):\n",
    "    \"\"\"\n",
    "    generate recency features for one event type\n",
    "    \"\"\"\n",
    "    df_feature = df.where(F.col('event').isin(event))\\\n",
    "            .groupBy('uid').agg(F.datediff(F.to_date(F.lit(str(snapshot_date))), F.max(F.col('date')))\\\n",
    "            .alias('days_since_last_'+str(event)))\n",
    "    return df_feature"
   ]
  },
  {
   "cell_type": "code",
   "execution_count": 28,
   "metadata": {},
   "outputs": [],
   "source": [
    "# generate recency features for all event_list\n",
    "for event in event_list:\n",
    "    df_feature_list.append(recency_feature_generation(df_feature_window,event,snapshot_date))\n"
   ]
  },
  {
   "cell_type": "markdown",
   "metadata": {},
   "source": [
    "### Profile features"
   ]
  },
  {
   "cell_type": "code",
   "execution_count": 29,
   "metadata": {},
   "outputs": [
    {
     "name": "stdout",
     "output_type": "stream",
     "text": [
      "+---------+------+--------+----------+---------+-----------+\n",
      "|      uid|device| song_id|      date|play_time|song_length|\n",
      "+---------+------+--------+----------+---------+-----------+\n",
      "|168551430|    ar| 1179220|2017-03-30|    231.0|      231.0|\n",
      "|168551548|    ar| 1474915|2017-03-30|      5.0|      243.0|\n",
      "|168551323|    ar|16889394|2017-03-30|     93.0|       93.0|\n",
      "|168551546|    ar| 1474915|2017-03-30|      0.0|      243.0|\n",
      "|168548714|    ar|23492572|2017-03-30|      2.0|      359.0|\n",
      "+---------+------+--------+----------+---------+-----------+\n",
      "only showing top 5 rows\n",
      "\n"
     ]
    }
   ],
   "source": [
    "df_play = spark.read.csv('../data/play_ds.csv',header=True).cache()\n",
    "df_play = df_play.withColumn('play_time',F.col('play_time').cast('float')).withColumn('song_length',F.col('song_length').cast('float'))\n",
    "df_play.show(5)"
   ]
  },
  {
   "cell_type": "code",
   "execution_count": 30,
   "metadata": {},
   "outputs": [],
   "source": [
    "df_play_feature_window = df_play.filter((F.col('date')>=feature_window_start_date) & (F.col('date')<=feature_window_end_date))\n",
    "df_profile_tmp = df_play_feature_window.select('uid','device').distinct()"
   ]
  },
  {
   "cell_type": "code",
   "execution_count": 31,
   "metadata": {},
   "outputs": [
    {
     "name": "stdout",
     "output_type": "stream",
     "text": [
      "+------+-----+\n",
      "|device|count|\n",
      "+------+-----+\n",
      "|    mc|    3|\n",
      "|    ar|50562|\n",
      "|    wp|    1|\n",
      "|    ip| 7294|\n",
      "+------+-----+\n",
      "\n"
     ]
    }
   ],
   "source": [
    "df_profile_tmp.groupBy('device').count().show()"
   ]
  },
  {
   "cell_type": "code",
   "execution_count": 32,
   "metadata": {},
   "outputs": [
    {
     "data": {
      "text/plain": [
       "57860"
      ]
     },
     "execution_count": 32,
     "metadata": {},
     "output_type": "execute_result"
    }
   ],
   "source": [
    "# check if one user has two devices\n",
    "df_profile_tmp.count()"
   ]
  },
  {
   "cell_type": "code",
   "execution_count": 33,
   "metadata": {},
   "outputs": [
    {
     "data": {
      "text/plain": [
       "57860"
      ]
     },
     "execution_count": 33,
     "metadata": {},
     "output_type": "execute_result"
    }
   ],
   "source": [
    "df_profile_tmp.distinct().count()"
   ]
  },
  {
   "cell_type": "code",
   "execution_count": 34,
   "metadata": {},
   "outputs": [
    {
     "name": "stdout",
     "output_type": "stream",
     "text": [
      "+-----------+-----+\n",
      "|device_type|count|\n",
      "+-----------+-----+\n",
      "|          1| 7294|\n",
      "|          2|50566|\n",
      "+-----------+-----+\n",
      "\n"
     ]
    }
   ],
   "source": [
    "df_profile_tmp = df_profile_tmp.withColumn('device_type',F.when(F.col('device')=='ip',1).otherwise(2))\n",
    "df_profile_tmp.groupBy('device_type').count().show()"
   ]
  },
  {
   "cell_type": "code",
   "execution_count": 35,
   "metadata": {},
   "outputs": [
    {
     "name": "stdout",
     "output_type": "stream",
     "text": [
      "+-----------+-----+\n",
      "|device_type|count|\n",
      "+-----------+-----+\n",
      "|       null|  141|\n",
      "|          1| 7294|\n",
      "|          2|50566|\n",
      "+-----------+-----+\n",
      "\n"
     ]
    }
   ],
   "source": [
    "df_profile = df_label.select('uid').join(df_profile_tmp.select('uid','device_type'),on='uid',how='left')\n",
    "df_profile.groupBy('device_type').count().show()"
   ]
  },
  {
   "cell_type": "markdown",
   "metadata": {},
   "source": [
    "#### Missing data"
   ]
  },
  {
   "cell_type": "code",
   "execution_count": 37,
   "metadata": {},
   "outputs": [
    {
     "name": "stdout",
     "output_type": "stream",
     "text": [
      "+---------+------+-------+----------+---------+-----------+\n",
      "|      uid|device|song_id|      date|play_time|song_length|\n",
      "+---------+------+-------+----------+---------+-----------+\n",
      "|168441638|    ar|   null|2017-03-31|     null|       null|\n",
      "|168445005|    ar|   null|2017-03-31|     null|       null|\n",
      "|168445005|    ar|   null|2017-03-31|     null|       null|\n",
      "|168445005|    ar|   null|2017-03-31|     null|       null|\n",
      "|168445005|    ar|   null|2017-03-31|     null|       null|\n",
      "|168445005|    ar|   null|2017-03-31|     null|       null|\n",
      "|168445005|    ar|   null|2017-03-31|     null|       null|\n",
      "|168445005|    ar|   null|2017-03-31|     null|       null|\n",
      "|168445005|    ar|   null|2017-03-31|     null|       null|\n",
      "|168445005|    ar|   null|2017-03-31|     null|       null|\n",
      "|168445005|    ar|   null|2017-03-31|     null|       null|\n",
      "|168445005|    ar|   null|2017-03-31|     null|       null|\n",
      "|168445005|    ar|   null|2017-03-31|     null|       null|\n",
      "|168445005|    ar|   null|2017-03-31|     null|       null|\n",
      "|168445005|    ar|   null|2017-03-31|     null|       null|\n",
      "|168445005|    ar|   null|2017-03-31|     null|       null|\n",
      "|168445005|    ar|   null|2017-03-31|     null|       null|\n",
      "|168445005|    ar|   null|2017-03-31|     null|       null|\n",
      "|168445005|    ar|   null|2017-03-31|     null|       null|\n",
      "|168445005|    ar|   null|2017-03-31|     null|       null|\n",
      "+---------+------+-------+----------+---------+-----------+\n",
      "only showing top 20 rows\n",
      "\n"
     ]
    }
   ],
   "source": [
    "# There are some missing values that might impact the analysis\n",
    "df_play.where(F.col('song_length').isNull()).show()"
   ]
  },
  {
   "cell_type": "code",
   "execution_count": 38,
   "metadata": {},
   "outputs": [
    {
     "name": "stdout",
     "output_type": "stream",
     "text": [
      "+---+------+-------+----+---------+-----------+\n",
      "|uid|device|song_id|date|play_time|song_length|\n",
      "+---+------+-------+----+---------+-----------+\n",
      "+---+------+-------+----+---------+-----------+\n",
      "\n"
     ]
    }
   ],
   "source": [
    "# It shows that if the 'play_time' exists, 'song_length' exists as well. So we can directly remove these rows.\n",
    "df_play.where(F.col('song_length').isNull() & F.col('play_time').isNotNull()).show()"
   ]
  },
  {
   "cell_type": "code",
   "execution_count": 39,
   "metadata": {},
   "outputs": [
    {
     "name": "stdout",
     "output_type": "stream",
     "text": [
      "+---------+------+--------+----------+---------+-----------+\n",
      "|      uid|device| song_id|      date|play_time|song_length|\n",
      "+---------+------+--------+----------+---------+-----------+\n",
      "|168551585|    ar| 8131487|2017-03-30|      0.0|        0.0|\n",
      "|168546393|    ar|  242615|2017-03-30|      0.0|        0.0|\n",
      "|168551612|    ip| 6662434|2017-03-30|      0.0|        0.0|\n",
      "|168548528|    ar| 3228339|2017-03-30|      0.0|        0.0|\n",
      "|168549700|    ar| 7185443|2017-03-30|      0.0|        0.0|\n",
      "|168551294|    ip|22798857|2017-03-30|      0.0|        0.0|\n",
      "|168549700|    ar|  142801|2017-03-30|      0.0|        0.0|\n",
      "|168549700|    ar|  277286|2017-03-30|      0.0|        0.0|\n",
      "|168542579|    ar| 4037598|2017-03-30|    203.0|        0.0|\n",
      "|168549700|    ar|   91396|2017-03-30|      0.0|        0.0|\n",
      "|168549700|    ar|   90126|2017-03-30|      0.0|        0.0|\n",
      "|168549700|    ar|  228907|2017-03-30|      0.0|        0.0|\n",
      "|168549700|    ar|  980849|2017-03-30|      0.0|        0.0|\n",
      "|168551785|    ip| 8131487|2017-03-30|      0.0|        0.0|\n",
      "|168549700|    ar|  203868|2017-03-30|      0.0|        0.0|\n",
      "|168549700|    ar| 6156439|2017-03-30|      0.0|        0.0|\n",
      "|168549700|    ar|  611562|2017-03-30|      0.0|        0.0|\n",
      "|168549700|    ar|  342528|2017-03-30|      0.0|        0.0|\n",
      "|168549700|    ar|  203539|2017-03-30|      0.0|        0.0|\n",
      "|168549700|    ar| 4845651|2017-03-30|      0.0|        0.0|\n",
      "+---------+------+--------+----------+---------+-----------+\n",
      "only showing top 20 rows\n",
      "\n"
     ]
    }
   ],
   "source": [
    "# The non-positive song_length.\n",
    "df_play.filter( (F.col('song_length') <= 0) ).show()"
   ]
  },
  {
   "cell_type": "code",
   "execution_count": 40,
   "metadata": {},
   "outputs": [
    {
     "name": "stdout",
     "output_type": "stream",
     "text": [
      "242.0\n"
     ]
    }
   ],
   "source": [
    "# Fill these missing song_length with median song length.\n",
    "med_length = df_play.filter(F.col('song_length') > 0).approxQuantile('song_length', [0.5], 0.25)[0]\n",
    "print(med_length)\n",
    "df_play = df_play.withColumn('song_length', F.when(F.col('song_length') > 0, F.col('song_length'))\\\n",
    "                .otherwise(med_length))"
   ]
  },
  {
   "cell_type": "code",
   "execution_count": 41,
   "metadata": {},
   "outputs": [
    {
     "name": "stdout",
     "output_type": "stream",
     "text": [
      "+---------+------+--------+----------+---------+-----------+\n",
      "|      uid|device| song_id|      date|play_time|song_length|\n",
      "+---------+------+--------+----------+---------+-----------+\n",
      "|168551546|    ar| 1474915|2017-03-30|      0.0|      243.0|\n",
      "|168551585|    ar| 8131487|2017-03-30|      0.0|      242.0|\n",
      "|168546393|    ar|  242615|2017-03-30|      0.0|      242.0|\n",
      "|168551612|    ip| 6662434|2017-03-30|      0.0|      242.0|\n",
      "|168548528|    ar| 3228339|2017-03-30|      0.0|      242.0|\n",
      "|168548099|    ar| 6292506|2017-03-30|      0.0|      183.0|\n",
      "|168129073|    ar|  347811|2017-03-30|      0.0|      272.0|\n",
      "|168548099|    ar| 1200933|2017-03-30|      0.0|      222.0|\n",
      "|168548099|    ar| 3349741|2017-03-30|      0.0|      215.0|\n",
      "|168541408|    ar|       0|2017-03-30|      0.0|      215.0|\n",
      "|168549700|    ar| 3678102|2017-03-30|      0.0|      213.0|\n",
      "|168549700|    ar| 7185443|2017-03-30|      0.0|      242.0|\n",
      "|168551294|    ip|22798857|2017-03-30|      0.0|      242.0|\n",
      "|168549700|    ar|  142801|2017-03-30|      0.0|      242.0|\n",
      "|168549700|    ar|  277286|2017-03-30|      0.0|      242.0|\n",
      "|168543348|    ar|       0|2017-03-30|      0.0|      205.0|\n",
      "|168549700|    ar|   91396|2017-03-30|      0.0|      242.0|\n",
      "|168549700|    ar|   82931|2017-03-30|      0.0|      212.0|\n",
      "|168549700|    ar|   90126|2017-03-30|      0.0|      242.0|\n",
      "|168543348|    ar|       0|2017-03-30|      0.0|       61.0|\n",
      "+---------+------+--------+----------+---------+-----------+\n",
      "only showing top 20 rows\n",
      "\n"
     ]
    }
   ],
   "source": [
    "# The non-positive play_time should be filtered out \n",
    "# because they are not contributing to the feature generation\n",
    "df_play.filter( F.col('play_time') <= 0 ).show()"
   ]
  },
  {
   "cell_type": "code",
   "execution_count": 44,
   "metadata": {},
   "outputs": [
    {
     "name": "stdout",
     "output_type": "stream",
     "text": [
      "+---------+------+--------+----------+---------+-----------+\n",
      "|      uid|device| song_id|      date|play_time|song_length|\n",
      "+---------+------+--------+----------+---------+-----------+\n",
      "|168551430|    ar| 1179220|2017-03-30|    231.0|      231.0|\n",
      "|168551548|    ar| 1474915|2017-03-30|      5.0|      243.0|\n",
      "|168551323|    ar|16889394|2017-03-30|     93.0|       93.0|\n",
      "|168548714|    ar|23492572|2017-03-30|      2.0|      359.0|\n",
      "|168550237|    ar| 6511070|2017-03-30|    144.0|      237.0|\n",
      "|168550890|    ar|23491657|2017-03-30|    330.0|      331.0|\n",
      "|168542653|    ar|  133095|2017-03-30|    256.0|      257.0|\n",
      "|168548099|    ar| 4984002|2017-03-30|    210.0|      210.0|\n",
      "|168551414|    ar|  727162|2017-03-30| 241070.0|      242.0|\n",
      "|168543348|    ar|       0|2017-03-30|     27.0|       63.0|\n",
      "|168550352|    ar|       0|2017-03-30|     68.0|      259.0|\n",
      "|168550970|    ar|  277286|2017-03-30|    254.0|      254.0|\n",
      "|168550949|    ar|  360750|2017-03-30|    249.0|      249.0|\n",
      "|168545975|    ip| 3213069|2017-03-30|    147.0|      148.0|\n",
      "|168551197|    ar| 7078121|2017-03-30|      8.0|      184.0|\n",
      "|168546993|    ar| 1024747|2017-03-30|    251.0|      251.0|\n",
      "|168543348|    ar|       0|2017-03-30|      1.0|      184.0|\n",
      "|168548714|    ar|23490801|2017-03-30|      3.0|      395.0|\n",
      "|168551131|    ar|  231534|2017-03-30| 258392.0|      258.0|\n",
      "|168551101|    ar|  238435|2017-03-30|     17.0|      231.0|\n",
      "+---------+------+--------+----------+---------+-----------+\n",
      "only showing top 20 rows\n",
      "\n"
     ]
    }
   ],
   "source": [
    "# Remove the rows with NULL 'play_time' values and filter out the dates out of feature date range.\n",
    "play_feature_window = df_play.filter( (F.col('play_time').isNotNull()) & (F.col('play_time') > 0) & (F.col('date')>=feature_window_start_date) & (F.col('date')<=feature_window_end_date))\n",
    "play_feature_window.show()"
   ]
  },
  {
   "cell_type": "markdown",
   "metadata": {},
   "source": [
    "### Total play time features"
   ]
  },
  {
   "cell_type": "code",
   "execution_count": 46,
   "metadata": {},
   "outputs": [
    {
     "name": "stdout",
     "output_type": "stream",
     "text": [
      "+---------+--------------+\n",
      "|      uid|sum(play_time)|\n",
      "+---------+--------------+\n",
      "|168554589|       18247.0|\n",
      "|168555344|       56074.0|\n",
      "|168579473|        7516.0|\n",
      "| 46395894|      218462.0|\n",
      "|168602946|        2314.0|\n",
      "|168611677|         252.0|\n",
      "|168615108|        4798.0|\n",
      "|168618438|       12620.0|\n",
      "|168623548|         199.0|\n",
      "|168626949|        1299.0|\n",
      "|168672161|        1986.0|\n",
      "|168673342|         532.0|\n",
      "|168672657|         251.0|\n",
      "|168675684|        1271.0|\n",
      "|168678749|         754.0|\n",
      "|168684828|        2559.0|\n",
      "|168685189|       44996.0|\n",
      "|168688012|        1251.0|\n",
      "|168689028|        4018.0|\n",
      "|168693071|        2057.0|\n",
      "+---------+--------------+\n",
      "only showing top 20 rows\n",
      "\n"
     ]
    }
   ],
   "source": [
    "# generate total song play time features (using play_ds data) for different time window\n",
    "# using play data (need to clean play time first, play time may be negative in data)\n",
    "total_play_time_feature = play_feature_window.groupBy('uid').agg(F.sum(F.col('play_time')))\n",
    "df_feature_list.append(total_play_time_feature)\n",
    "total_play_time_feature.show()"
   ]
  },
  {
   "cell_type": "code",
   "execution_count": 47,
   "metadata": {},
   "outputs": [],
   "source": [
    "def total_play_time_feature_generation_time_windows(df,time_window_list,snapshot_date):\n",
    "    \"\"\"\n",
    "    generate frequency features for one event type and a list of time windows\n",
    "    \"\"\"\n",
    "    df_feature = df \\\n",
    "        .groupBy('uid') \\\n",
    "        .agg(*[F.sum(F.when( (F.col('date')>=snapshot_date-datetime.timedelta(time_window-1)) & (F.col('date')<=snapshot_date), F.col('play_time') ).otherwise(0)).alias('total_play_time_'+'_last_'+str(time_window)) \\\n",
    "                for time_window in time_window_list]\n",
    "            )# *[] opens list and make them comma separated\n",
    "    return df_feature"
   ]
  },
  {
   "cell_type": "code",
   "execution_count": 48,
   "metadata": {},
   "outputs": [
    {
     "name": "stdout",
     "output_type": "stream",
     "text": [
      "+---------+-----------------------+-----------------------+-----------------------+------------------------+------------------------+\n",
      "|      uid|total_play_time__last_1|total_play_time__last_3|total_play_time__last_7|total_play_time__last_14|total_play_time__last_30|\n",
      "+---------+-----------------------+-----------------------+-----------------------+------------------------+------------------------+\n",
      "|168554589|                    0.0|                    0.0|                    0.0|                     0.0|                 18247.0|\n",
      "|168555344|                    0.0|                    0.0|                 8688.0|                 25314.0|                 56074.0|\n",
      "|168579473|                    0.0|                    0.0|                    0.0|                     0.0|                  7516.0|\n",
      "| 46395894|                24313.0|                24313.0|                24313.0|                 63715.0|                218462.0|\n",
      "|168602946|                    0.0|                    0.0|                    0.0|                     0.0|                  2314.0|\n",
      "|168611677|                    0.0|                    0.0|                    0.0|                     0.0|                   252.0|\n",
      "|168615108|                    0.0|                    0.0|                    0.0|                     0.0|                  4798.0|\n",
      "|168618438|                    0.0|                    0.0|                    0.0|                     0.0|                 12620.0|\n",
      "|168623548|                    0.0|                    0.0|                    0.0|                     0.0|                   199.0|\n",
      "|168626949|                    0.0|                    0.0|                    0.0|                     0.0|                  1299.0|\n",
      "|168672161|                    0.0|                    0.0|                    0.0|                     0.0|                  1986.0|\n",
      "|168673342|                    0.0|                    0.0|                    0.0|                     0.0|                   532.0|\n",
      "|168672657|                    0.0|                    0.0|                    0.0|                     0.0|                   251.0|\n",
      "|168675684|                    0.0|                    0.0|                    0.0|                     0.0|                  1271.0|\n",
      "|168678749|                    0.0|                    0.0|                    0.0|                     0.0|                   754.0|\n",
      "|168684828|                    0.0|                    0.0|                    0.0|                     0.0|                  2559.0|\n",
      "|168685189|                    0.0|                    0.0|                    0.0|                     0.0|                 44996.0|\n",
      "|168688012|                    0.0|                    0.0|                    0.0|                     0.0|                  1251.0|\n",
      "|168689028|                    0.0|                 3961.0|                 3961.0|                  3961.0|                  4018.0|\n",
      "|168693071|                    0.0|                    0.0|                    0.0|                     0.0|                  2057.0|\n",
      "+---------+-----------------------+-----------------------+-----------------------+------------------------+------------------------+\n",
      "only showing top 20 rows\n",
      "\n"
     ]
    }
   ],
   "source": [
    "time_window_list = [1,3,7,14,30]\n",
    "df_feature_list.append(total_play_time_feature_generation_time_windows(play_feature_window,time_window_list,snapshot_date))\n",
    "df_feature_list[-1].show()"
   ]
  },
  {
   "cell_type": "markdown",
   "metadata": {},
   "source": [
    "### Engaged play frequency features"
   ]
  },
  {
   "cell_type": "code",
   "execution_count": 49,
   "metadata": {},
   "outputs": [],
   "source": [
    "# generate counts of songs play 80% of their song length (using play_ds data) for different time window\n",
    "# using play data (need to clean play time and song length first, play time may be negative in data, song length may be zeros)\n",
    "def engaged_play_feature_generation_time_windows(df,time_window_list,snapshot_date):\n",
    "    \"\"\"\n",
    "    generate highly engaged play frequency features for one event type and a list of time windows\n",
    "    \"\"\"\n",
    "    df_feature = df \\\n",
    "        .groupBy('uid') \\\n",
    "        .agg(*[F.sum(F.when( (F.col('play_time')/F.col('song_length') > 0.8) & (F.col('date')>=snapshot_date-datetime.timedelta(time_window-1)) & (F.col('date')<=snapshot_date),1).otherwise(0)).alias('engaged_play_'+'_last_'+str(time_window)) \\\n",
    "                for time_window in time_window_list]\n",
    "            )# *[] opens list and make them comma separated\n",
    "    return df_feature"
   ]
  },
  {
   "cell_type": "code",
   "execution_count": 50,
   "metadata": {},
   "outputs": [
    {
     "name": "stdout",
     "output_type": "stream",
     "text": [
      "+---------+--------------------+--------------------+--------------------+---------------------+---------------------+\n",
      "|      uid|engaged_play__last_1|engaged_play__last_3|engaged_play__last_7|engaged_play__last_14|engaged_play__last_30|\n",
      "+---------+--------------------+--------------------+--------------------+---------------------+---------------------+\n",
      "|168554589|                   0|                   0|                   0|                    0|                   68|\n",
      "|168555344|                   0|                   0|                  30|                   95|                  214|\n",
      "|168579473|                   0|                   0|                   0|                    0|                   28|\n",
      "| 46395894|                  77|                  77|                  77|                  221|                  816|\n",
      "|168602946|                   0|                   0|                   0|                    0|                   10|\n",
      "|168611677|                   0|                   0|                   0|                    0|                    1|\n",
      "|168615108|                   0|                   0|                   0|                    0|                   17|\n",
      "|168618438|                   0|                   0|                   0|                    0|                   46|\n",
      "|168623548|                   0|                   0|                   0|                    0|                    0|\n",
      "|168626949|                   0|                   0|                   0|                    0|                    2|\n",
      "|168672161|                   0|                   0|                   0|                    0|                    7|\n",
      "|168673342|                   0|                   0|                   0|                    0|                    0|\n",
      "|168672657|                   0|                   0|                   0|                    0|                    1|\n",
      "|168675684|                   0|                   0|                   0|                    0|                    1|\n",
      "|168678749|                   0|                   0|                   0|                    0|                    0|\n",
      "|168684828|                   0|                   0|                   0|                    0|                    8|\n",
      "|168685189|                   0|                   0|                   0|                    0|                  158|\n",
      "|168688012|                   0|                   0|                   0|                    0|                    6|\n",
      "|168689028|                   0|                  10|                  10|                   10|                   11|\n",
      "|168693071|                   0|                   0|                   0|                    0|                    3|\n",
      "+---------+--------------------+--------------------+--------------------+---------------------+---------------------+\n",
      "only showing top 20 rows\n",
      "\n"
     ]
    }
   ],
   "source": [
    "time_window_list = [1,3,7,14,30]\n",
    "df_feature_list.append(engaged_play_feature_generation_time_windows(play_feature_window,time_window_list,snapshot_date))\n",
    "df_feature_list[-1].show()"
   ]
  },
  {
   "cell_type": "markdown",
   "metadata": {},
   "source": [
    "# Form training data"
   ]
  },
  {
   "cell_type": "code",
   "execution_count": 52,
   "metadata": {},
   "outputs": [],
   "source": [
    "def join_feature_data(df_master,df_feature_list):\n",
    "    for df_feature in df_feature_list:\n",
    "        df_master = df_master.join(df_feature,on='uid',how='left')\n",
    "        #df_master.persist() # uncomment if number of joins is too many\n",
    "    return df_master\n",
    "    "
   ]
  },
  {
   "cell_type": "code",
   "execution_count": 53,
   "metadata": {},
   "outputs": [],
   "source": [
    "# join all behavior features\n",
    "df_model_final = join_feature_data(df_label,df_feature_list)"
   ]
  },
  {
   "cell_type": "code",
   "execution_count": 54,
   "metadata": {},
   "outputs": [],
   "source": [
    "# join all profile features\n",
    "df_model_final = join_feature_data(df_model_final,[df_profile])"
   ]
  },
  {
   "cell_type": "code",
   "execution_count": 55,
   "metadata": {},
   "outputs": [],
   "source": [
    "df_model_final.fillna(0).toPandas().to_csv('../data/df_model_final.csv',index=False)"
   ]
  },
  {
   "cell_type": "code",
   "execution_count": null,
   "metadata": {},
   "outputs": [],
   "source": [
    "df_model_final.show()"
   ]
  }
 ],
 "metadata": {
  "kernelspec": {
   "display_name": "Python 3",
   "language": "python",
   "name": "python3"
  },
  "language_info": {
   "codemirror_mode": {
    "name": "ipython",
    "version": 3
   },
   "file_extension": ".py",
   "mimetype": "text/x-python",
   "name": "python",
   "nbconvert_exporter": "python",
   "pygments_lexer": "ipython3",
   "version": "3.5.2"
  },
  "widgets": {
   "state": {},
   "version": "1.1.2"
  }
 },
 "nbformat": 4,
 "nbformat_minor": 2
}
