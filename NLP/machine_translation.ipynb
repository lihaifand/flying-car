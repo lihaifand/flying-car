{
 "cells": [
  {
   "cell_type": "code",
   "execution_count": null,
   "metadata": {},
   "outputs": [],
   "source": [
    "import collections\n",
    "\n",
    "import helper\n",
    "import numpy as np\n",
    "import project_tests as tests\n",
    "\n",
    "from keras.preprocessing.text import Tokenizer\n",
    "from keras.preprocessing.sequence import pad_sequences\n",
    "from keras.models import Model\n",
    "from keras.layers import GRU, Input, Dense, TimeDistributed, Activation, RepeatVector, Bidirectional, LSTM\n",
    "from keras.layers.embeddings import Embedding\n",
    "from keras.optimizers import Adam\n",
    "from keras.losses import sparse_categorical_crossentropy"
   ]
  },
  {
   "cell_type": "markdown",
   "metadata": {},
   "source": [
    "### Verify access to the GPU\n",
    "The following test applies only if you expect to be using a GPU, e.g., while running in a Udacity Workspace or using an AWS instance with GPU support. Run the next cell, and verify that the device_type is \"GPU\".\n",
    "- If the device is not GPU & you are running from a Udacity Workspace, then save your workspace with the icon at the top, then click \"enable\" at the bottom of the workspace.\n",
    "- If the device is not GPU & you are running from an AWS instance, then refer to the cloud computing instructions in the classroom to verify your setup steps."
   ]
  },
  {
   "cell_type": "code",
   "execution_count": 2,
   "metadata": {},
   "outputs": [
    {
     "name": "stdout",
     "output_type": "stream",
     "text": [
      "[name: \"/cpu:0\"\n",
      "device_type: \"CPU\"\n",
      "memory_limit: 268435456\n",
      "locality {\n",
      "}\n",
      "incarnation: 11942008832016371975\n",
      ", name: \"/gpu:0\"\n",
      "device_type: \"GPU\"\n",
      "memory_limit: 357302272\n",
      "locality {\n",
      "  bus_id: 1\n",
      "}\n",
      "incarnation: 12402822743217698499\n",
      "physical_device_desc: \"device: 0, name: Tesla K80, pci bus id: 0000:00:04.0\"\n",
      "]\n"
     ]
    }
   ],
   "source": [
    "from tensorflow.python.client import device_lib\n",
    "print(device_lib.list_local_devices())"
   ]
  },
  {
   "cell_type": "markdown",
   "metadata": {},
   "source": [
    "## Dataset\n",
    "We begin by investigating the dataset that will be used to train and evaluate your pipeline.  The most common datasets used for machine translation are from [WMT](http://www.statmt.org/).  However, that will take a long time to train a neural network on.  We'll be using a dataset we created for this project that contains a small vocabulary.  You'll be able to train your model in a reasonable time with this dataset.\n",
    "### Load Data\n",
    "The data is located in `data/small_vocab_en` and `data/small_vocab_fr`. The `small_vocab_en` file contains English sentences with their French translations in the `small_vocab_fr` file. Load the English and French data from these files from running the cell below."
   ]
  },
  {
   "cell_type": "code",
   "execution_count": 3,
   "metadata": {},
   "outputs": [
    {
     "name": "stdout",
     "output_type": "stream",
     "text": [
      "Dataset Loaded\n"
     ]
    }
   ],
   "source": [
    "# Load English data\n",
    "english_sentences = helper.load_data('data/small_vocab_en')\n",
    "# Load French data\n",
    "french_sentences = helper.load_data('data/small_vocab_fr')\n",
    "\n",
    "print('Dataset Loaded')"
   ]
  },
  {
   "cell_type": "markdown",
   "metadata": {},
   "source": [
    "### Files\n",
    "Each line in `small_vocab_en` contains an English sentence with the respective translation in each line of `small_vocab_fr`.  View the first two lines from each file."
   ]
  },
  {
   "cell_type": "code",
   "execution_count": 4,
   "metadata": {},
   "outputs": [
    {
     "name": "stdout",
     "output_type": "stream",
     "text": [
      "small_vocab_en Line 1:  new jersey is sometimes quiet during autumn , and it is snowy in april .\n",
      "small_vocab_fr Line 1:  new jersey est parfois calme pendant l' automne , et il est neigeux en avril .\n",
      "small_vocab_en Line 2:  the united states is usually chilly during july , and it is usually freezing in november .\n",
      "small_vocab_fr Line 2:  les états-unis est généralement froid en juillet , et il gèle habituellement en novembre .\n"
     ]
    }
   ],
   "source": [
    "for sample_i in range(2):\n",
    "    print('small_vocab_en Line {}:  {}'.format(sample_i + 1, english_sentences[sample_i]))\n",
    "    print('small_vocab_fr Line {}:  {}'.format(sample_i + 1, french_sentences[sample_i]))"
   ]
  },
  {
   "cell_type": "markdown",
   "metadata": {},
   "source": [
    "From looking at the sentences, you can see they have been preprocessed already.  The puncuations have been delimited using spaces. All the text have been converted to lowercase.  This should save you some time, but the text requires more preprocessing.\n",
    "### Vocabulary\n",
    "The complexity of the problem is determined by the complexity of the vocabulary.  A more complex vocabulary is a more complex problem.  Let's look at the complexity of the dataset we'll be working with."
   ]
  },
  {
   "cell_type": "code",
   "execution_count": 5,
   "metadata": {},
   "outputs": [
    {
     "name": "stdout",
     "output_type": "stream",
     "text": [
      "1823250 English words.\n",
      "227 unique English words.\n",
      "10 Most common words in the English dataset:\n",
      "\"is\" \",\" \".\" \"in\" \"it\" \"during\" \"the\" \"but\" \"and\" \"sometimes\"\n",
      "\n",
      "1961295 French words.\n",
      "355 unique French words.\n",
      "10 Most common words in the French dataset:\n",
      "\"est\" \".\" \",\" \"en\" \"il\" \"les\" \"mais\" \"et\" \"la\" \"parfois\"\n"
     ]
    }
   ],
   "source": [
    "english_words_counter = collections.Counter([word for sentence in english_sentences for word in sentence.split()])\n",
    "french_words_counter = collections.Counter([word for sentence in french_sentences for word in sentence.split()])\n",
    "\n",
    "print('{} English words.'.format(len([word for sentence in english_sentences for word in sentence.split()])))\n",
    "print('{} unique English words.'.format(len(english_words_counter)))\n",
    "print('10 Most common words in the English dataset:')\n",
    "print('\"' + '\" \"'.join(list(zip(*english_words_counter.most_common(10)))[0]) + '\"')\n",
    "print()\n",
    "print('{} French words.'.format(len([word for sentence in french_sentences for word in sentence.split()])))\n",
    "print('{} unique French words.'.format(len(french_words_counter)))\n",
    "print('10 Most common words in the French dataset:')\n",
    "print('\"' + '\" \"'.join(list(zip(*french_words_counter.most_common(10)))[0]) + '\"')"
   ]
  },
  {
   "cell_type": "markdown",
   "metadata": {},
   "source": [
    "For comparison, _Alice's Adventures in Wonderland_ contains 2,766 unique words of a total of 15,500 words.\n",
    "## Preprocess\n",
    "For this project, you won't use text data as input to your model. Instead, you'll convert the text into sequences of integers using the following preprocess methods:\n",
    "1. Tokenize the words into ids\n",
    "2. Add padding to make all the sequences the same length.\n",
    "\n",
    "Time to start preprocessing the data...\n",
    "### Tokenize (IMPLEMENTATION)\n",
    "For a neural network to predict on text data, it first has to be turned into data it can understand. Text data like \"dog\" is a sequence of ASCII character encodings.  Since a neural network is a series of multiplication and addition operations, the input data needs to be number(s).\n",
    "\n",
    "We can turn each character into a number or each word into a number.  These are called character and word ids, respectively.  Character ids are used for character level models that generate text predictions for each character.  A word level model uses word ids that generate text predictions for each word.  Word level models tend to learn better, since they are lower in complexity, so we'll use those.\n",
    "\n",
    "Turn each sentence into a sequence of words ids using Keras's [`Tokenizer`](https://keras.io/preprocessing/text/#tokenizer) function. Use this function to tokenize `english_sentences` and `french_sentences` in the cell below.\n",
    "\n",
    "Running the cell will run `tokenize` on sample data and show output for debugging."
   ]
  },
  {
   "cell_type": "code",
   "execution_count": 6,
   "metadata": {},
   "outputs": [
    {
     "name": "stdout",
     "output_type": "stream",
     "text": [
      "{'the': 1, 'quick': 2, 'a': 3, 'brown': 4, 'fox': 5, 'jumps': 6, 'over': 7, 'lazy': 8, 'dog': 9, 'by': 10, 'jove': 11, 'my': 12, 'study': 13, 'of': 14, 'lexicography': 15, 'won': 16, 'prize': 17, 'this': 18, 'is': 19, 'short': 20, 'sentence': 21}\n",
      "\n",
      "Sequence 1 in x\n",
      "  Input:  The quick brown fox jumps over the lazy dog .\n",
      "  Output: [1, 2, 4, 5, 6, 7, 1, 8, 9]\n",
      "Sequence 2 in x\n",
      "  Input:  By Jove , my quick study of lexicography won a prize .\n",
      "  Output: [10, 11, 12, 2, 13, 14, 15, 16, 3, 17]\n",
      "Sequence 3 in x\n",
      "  Input:  This is a short sentence .\n",
      "  Output: [18, 19, 3, 20, 21]\n"
     ]
    }
   ],
   "source": [
    "def tokenize(x):\n",
    "    \"\"\"\n",
    "    Tokenize x\n",
    "    :param x: List of sentences/strings to be tokenized\n",
    "    :return: Tuple of (tokenized x data, tokenizer used to tokenize x)\n",
    "    \"\"\"\n",
    "    # TODO: Implement\n",
    "    tk = Tokenizer()\n",
    "    tk.fit_on_texts(x)\n",
    "    \n",
    "    return tk.texts_to_sequences(x), tk\n",
    "tests.test_tokenize(tokenize)\n",
    "\n",
    "# Tokenize Example output\n",
    "text_sentences = [\n",
    "    'The quick brown fox jumps over the lazy dog .',\n",
    "    'By Jove , my quick study of lexicography won a prize .',\n",
    "    'This is a short sentence .']\n",
    "text_tokenized, text_tokenizer = tokenize(text_sentences)\n",
    "print(text_tokenizer.word_index)\n",
    "print()\n",
    "for sample_i, (sent, token_sent) in enumerate(zip(text_sentences, text_tokenized)):\n",
    "    print('Sequence {} in x'.format(sample_i + 1))\n",
    "    print('  Input:  {}'.format(sent))\n",
    "    print('  Output: {}'.format(token_sent))"
   ]
  },
  {
   "cell_type": "markdown",
   "metadata": {},
   "source": [
    "### Padding (IMPLEMENTATION)\n",
    "When batching the sequence of word ids together, each sequence needs to be the same length.  Since sentences are dynamic in length, we can add padding to the end of the sequences to make them the same length.\n",
    "\n",
    "Make sure all the English sequences have the same length and all the French sequences have the same length by adding padding to the **end** of each sequence using Keras's [`pad_sequences`](https://keras.io/preprocessing/sequence/#pad_sequences) function."
   ]
  },
  {
   "cell_type": "code",
   "execution_count": 7,
   "metadata": {},
   "outputs": [
    {
     "name": "stdout",
     "output_type": "stream",
     "text": [
      "Sequence 1 in x\n",
      "  Input:  [1 2 4 5 6 7 1 8 9]\n",
      "  Output: [1 2 4 5 6 7 1 8 9 0]\n",
      "Sequence 2 in x\n",
      "  Input:  [10 11 12  2 13 14 15 16  3 17]\n",
      "  Output: [10 11 12  2 13 14 15 16  3 17]\n",
      "Sequence 3 in x\n",
      "  Input:  [18 19  3 20 21]\n",
      "  Output: [18 19  3 20 21  0  0  0  0  0]\n"
     ]
    }
   ],
   "source": [
    "def pad(x, length=None):\n",
    "    \"\"\"\n",
    "    Pad x\n",
    "    :param x: List of sequences.\n",
    "    :param length: Length to pad the sequence to.  If None, use length of longest sequence in x.\n",
    "    :return: Padded numpy array of sequences\n",
    "    \"\"\"\n",
    "    # TODO: Implement\n",
    "    if length is None:\n",
    "        length = max([len(sentence) for sentence in x])\n",
    "    return pad_sequences(x, maxlen=length, padding='post')\n",
    "tests.test_pad(pad)\n",
    "\n",
    "# Pad Tokenized output\n",
    "test_pad = pad(text_tokenized)\n",
    "for sample_i, (token_sent, pad_sent) in enumerate(zip(text_tokenized, test_pad)):\n",
    "    print('Sequence {} in x'.format(sample_i + 1))\n",
    "    print('  Input:  {}'.format(np.array(token_sent)))\n",
    "    print('  Output: {}'.format(pad_sent))"
   ]
  },
  {
   "cell_type": "markdown",
   "metadata": {},
   "source": [
    "### Preprocess Pipeline\n",
    "Your focus for this project is to build neural network architecture, so we won't ask you to create a preprocess pipeline.  Instead, we've provided you with the implementation of the `preprocess` function."
   ]
  },
  {
   "cell_type": "code",
   "execution_count": 8,
   "metadata": {},
   "outputs": [
    {
     "name": "stdout",
     "output_type": "stream",
     "text": [
      "Data Preprocessed\n",
      "Max English sentence length: 15\n",
      "Max French sentence length: 21\n",
      "English vocabulary size: 199\n",
      "French vocabulary size: 344\n"
     ]
    }
   ],
   "source": [
    "def preprocess(x, y):\n",
    "    \"\"\"\n",
    "    Preprocess x and y\n",
    "    :param x: Feature List of sentences\n",
    "    :param y: Label List of sentences\n",
    "    :return: Tuple of (Preprocessed x, Preprocessed y, x tokenizer, y tokenizer)\n",
    "    \"\"\"\n",
    "    preprocess_x, x_tk = tokenize(x)\n",
    "    preprocess_y, y_tk = tokenize(y)\n",
    "\n",
    "    preprocess_x = pad(preprocess_x)\n",
    "    preprocess_y = pad(preprocess_y)\n",
    "\n",
    "    # Keras's sparse_categorical_crossentropy function requires the labels to be in 3 dimensions\n",
    "    preprocess_y = preprocess_y.reshape(*preprocess_y.shape, 1)\n",
    "\n",
    "    return preprocess_x, preprocess_y, x_tk, y_tk\n",
    "\n",
    "preproc_english_sentences, preproc_french_sentences, english_tokenizer, french_tokenizer =\\\n",
    "    preprocess(english_sentences, french_sentences)\n",
    "    \n",
    "max_english_sequence_length = preproc_english_sentences.shape[1]\n",
    "max_french_sequence_length = preproc_french_sentences.shape[1]\n",
    "english_vocab_size = len(english_tokenizer.word_index)\n",
    "french_vocab_size = len(french_tokenizer.word_index)\n",
    "\n",
    "print('Data Preprocessed')\n",
    "print(\"Max English sentence length:\", max_english_sequence_length)\n",
    "print(\"Max French sentence length:\", max_french_sequence_length)\n",
    "print(\"English vocabulary size:\", english_vocab_size)\n",
    "print(\"French vocabulary size:\", french_vocab_size)"
   ]
  },
  {
   "cell_type": "markdown",
   "metadata": {},
   "source": [
    "## Models\n",
    "In this section, you will experiment with various neural network architectures.\n",
    "You will begin by training four relatively simple architectures.\n",
    "- Model 1 is a simple RNN\n",
    "- Model 2 is a RNN with Embedding\n",
    "- Model 3 is a Bidirectional RNN\n",
    "- Model 4 is an optional Encoder-Decoder RNN\n",
    "\n",
    "After experimenting with the four simple architectures, you will construct a deeper architecture that is designed to outperform all four models.\n",
    "### Ids Back to Text\n",
    "The neural network will be translating the input to words ids, which isn't the final form we want.  We want the French translation.  The function `logits_to_text` will bridge the gab between the logits from the neural network to the French translation.  You'll be using this function to better understand the output of the neural network."
   ]
  },
  {
   "cell_type": "code",
   "execution_count": 9,
   "metadata": {},
   "outputs": [
    {
     "name": "stdout",
     "output_type": "stream",
     "text": [
      "`logits_to_text` function loaded.\n"
     ]
    }
   ],
   "source": [
    "def logits_to_text(logits, tokenizer):\n",
    "    \"\"\"\n",
    "    Turn logits from a neural network into text using the tokenizer\n",
    "    :param logits: Logits from a neural network\n",
    "    :param tokenizer: Keras Tokenizer fit on the labels\n",
    "    :return: String that represents the text of the logits\n",
    "    \"\"\"\n",
    "    index_to_words = {id: word for word, id in tokenizer.word_index.items()}\n",
    "    index_to_words[0] = '<PAD>'\n",
    "\n",
    "    return ' '.join([index_to_words[prediction] for prediction in np.argmax(logits, 1)])\n",
    "\n",
    "print('`logits_to_text` function loaded.')"
   ]
  },
  {
   "cell_type": "markdown",
   "metadata": {},
   "source": [
    "### Model 1: RNN (IMPLEMENTATION)\n",
    "![RNN](images/rnn.png)\n",
    "A basic RNN model is a good baseline for sequence data.  In this model, you'll build a RNN that translates English to French."
   ]
  },
  {
   "cell_type": "code",
   "execution_count": 34,
   "metadata": {},
   "outputs": [
    {
     "name": "stdout",
     "output_type": "stream",
     "text": [
      "Train on 110288 samples, validate on 27573 samples\n",
      "Epoch 1/10\n",
      "110288/110288 [==============================] - 13s 117us/step - loss: 2.5618 - acc: 0.4840 - val_loss: nan - val_acc: 0.5654\n",
      "Epoch 2/10\n",
      "110288/110288 [==============================] - 11s 98us/step - loss: 1.6335 - acc: 0.5881 - val_loss: nan - val_acc: 0.6049\n",
      "Epoch 3/10\n",
      "110288/110288 [==============================] - 11s 98us/step - loss: 1.4251 - acc: 0.6144 - val_loss: nan - val_acc: 0.6210\n",
      "Epoch 4/10\n",
      "110288/110288 [==============================] - 11s 98us/step - loss: 1.3047 - acc: 0.6326 - val_loss: nan - val_acc: 0.6418\n",
      "Epoch 5/10\n",
      "110288/110288 [==============================] - 11s 98us/step - loss: 1.2128 - acc: 0.6473 - val_loss: nan - val_acc: 0.6564\n",
      "Epoch 6/10\n",
      "110288/110288 [==============================] - 11s 98us/step - loss: 1.1487 - acc: 0.6589 - val_loss: nan - val_acc: 0.6622\n",
      "Epoch 7/10\n",
      "110288/110288 [==============================] - 11s 98us/step - loss: 1.1013 - acc: 0.6663 - val_loss: nan - val_acc: 0.6699\n",
      "Epoch 8/10\n",
      "110288/110288 [==============================] - 11s 98us/step - loss: 1.0600 - acc: 0.6723 - val_loss: nan - val_acc: 0.6731\n",
      "Epoch 9/10\n",
      "110288/110288 [==============================] - 11s 98us/step - loss: 1.0256 - acc: 0.6766 - val_loss: nan - val_acc: 0.6814\n",
      "Epoch 10/10\n",
      "110288/110288 [==============================] - 11s 98us/step - loss: 0.9909 - acc: 0.6825 - val_loss: nan - val_acc: 0.6804\n",
      "new jersey est parfois calme en l' de mai et il est en en <PAD> <PAD> <PAD> <PAD> <PAD> <PAD> <PAD>\n",
      "_________________________________________________________________\n",
      "Layer (type)                 Output Shape              Param #   \n",
      "=================================================================\n",
      "input_25 (InputLayer)        (None, 21, 1)             0         \n",
      "_________________________________________________________________\n",
      "gru_40 (GRU)                 (None, 21, 256)           198144    \n",
      "_________________________________________________________________\n",
      "time_distributed_17 (TimeDis (None, 21, 344)           88408     \n",
      "_________________________________________________________________\n",
      "activation_17 (Activation)   (None, 21, 344)           0         \n",
      "=================================================================\n",
      "Total params: 286,552\n",
      "Trainable params: 286,552\n",
      "Non-trainable params: 0\n",
      "_________________________________________________________________\n",
      "None\n"
     ]
    }
   ],
   "source": [
    "def simple_model(input_shape, output_sequence_length, english_vocab_size, french_vocab_size):\n",
    "    \"\"\"\n",
    "    Build and train a basic RNN on x and y\n",
    "    :param input_shape: Tuple of input shape\n",
    "    :param output_sequence_length: Length of output sequence\n",
    "    :param english_vocab_size: Number of unique English words in the dataset\n",
    "    :param french_vocab_size: Number of unique French words in the dataset\n",
    "    :return: Keras model built, but not trained\n",
    "    \"\"\"\n",
    "    # TODO: Build the layers\n",
    "    learning_rate = 1e-3\n",
    "    input_seq = Input(input_shape[1:])\n",
    "    rnn = GRU(256, return_sequences=True)(input_seq)\n",
    "    logits = TimeDistributed(Dense(french_vocab_size))(rnn)\n",
    "    model = Model(input_seq, Activation('softmax')(logits))\n",
    "    model.compile(loss=sparse_categorical_crossentropy,\n",
    "                  optimizer=Adam(learning_rate),\n",
    "                  metrics=['accuracy'])\n",
    "    return model\n",
    "tests.test_simple_model(simple_model)\n",
    "\n",
    "# Reshaping the input to work with a basic RNN\n",
    "tmp_x = pad(preproc_english_sentences, max_french_sequence_length)\n",
    "tmp_x = tmp_x.reshape((-1, preproc_french_sentences.shape[-2], 1))\n",
    "\n",
    "# Train the neural network\n",
    "simple_rnn_model = simple_model(\n",
    "    tmp_x.shape,\n",
    "    max_french_sequence_length,\n",
    "    english_vocab_size,\n",
    "    french_vocab_size)\n",
    "simple_rnn_model.fit(tmp_x, preproc_french_sentences, batch_size=1024, epochs=10, validation_split=0.2)\n",
    "\n",
    "# Print prediction(s)\n",
    "print(logits_to_text(simple_rnn_model.predict(tmp_x[:1])[0], french_tokenizer))\n",
    "\n",
    "# Print model\n",
    "print(simple_rnn_model.summary())"
   ]
  },
  {
   "cell_type": "markdown",
   "metadata": {},
   "source": [
    "### Model 2: Embedding (IMPLEMENTATION)\n",
    "![RNN](images/embedding.png)\n",
    "You've turned the words into ids, but there's a better representation of a word.  This is called word embeddings.  An embedding is a vector representation of the word that is close to similar words in n-dimensional space, where the n represents the size of the embedding vectors.\n",
    "\n",
    "In this model, you'll create a RNN model using embedding."
   ]
  },
  {
   "cell_type": "code",
   "execution_count": 54,
   "metadata": {},
   "outputs": [
    {
     "name": "stdout",
     "output_type": "stream",
     "text": [
      "Train on 110288 samples, validate on 27573 samples\n",
      "Epoch 1/10\n",
      "110288/110288 [==============================] - 17s 157us/step - loss: 3.0150 - acc: 0.4532 - val_loss: nan - val_acc: 0.5370\n",
      "Epoch 2/10\n",
      "110288/110288 [==============================] - 14s 125us/step - loss: 1.5206 - acc: 0.6437 - val_loss: nan - val_acc: 0.7332\n",
      "Epoch 3/10\n",
      "110288/110288 [==============================] - 14s 125us/step - loss: 0.9161 - acc: 0.7722 - val_loss: nan - val_acc: 0.8047\n",
      "Epoch 4/10\n",
      "110288/110288 [==============================] - 14s 125us/step - loss: 0.6265 - acc: 0.8236 - val_loss: nan - val_acc: 0.8427\n",
      "Epoch 5/10\n",
      "110288/110288 [==============================] - 14s 125us/step - loss: 0.4821 - acc: 0.8563 - val_loss: nan - val_acc: 0.8711\n",
      "Epoch 6/10\n",
      "110288/110288 [==============================] - 14s 125us/step - loss: 0.3959 - acc: 0.8793 - val_loss: nan - val_acc: 0.8832\n",
      "Epoch 7/10\n",
      "110288/110288 [==============================] - 14s 125us/step - loss: 0.3466 - acc: 0.8921 - val_loss: nan - val_acc: 0.8992\n",
      "Epoch 8/10\n",
      "110288/110288 [==============================] - 14s 125us/step - loss: 0.3114 - acc: 0.9019 - val_loss: nan - val_acc: 0.9021\n",
      "Epoch 9/10\n",
      "110288/110288 [==============================] - 14s 125us/step - loss: 0.2878 - acc: 0.9082 - val_loss: nan - val_acc: 0.9121\n",
      "Epoch 10/10\n",
      "110288/110288 [==============================] - 14s 125us/step - loss: 0.2666 - acc: 0.9142 - val_loss: nan - val_acc: 0.9142\n",
      "new jersey est parfois calme en cours et il est neigeux en avril avril <PAD> <PAD> <PAD> <PAD> <PAD> <PAD> <PAD>\n",
      "_________________________________________________________________\n",
      "Layer (type)                 Output Shape              Param #   \n",
      "=================================================================\n",
      "input_59 (InputLayer)        (None, 21)                0         \n",
      "_________________________________________________________________\n",
      "embedding_32 (Embedding)     (None, 21, 256)           50944     \n",
      "_________________________________________________________________\n",
      "gru_75 (GRU)                 (None, 21, 256)           393984    \n",
      "_________________________________________________________________\n",
      "time_distributed_49 (TimeDis (None, 21, 344)           88408     \n",
      "_________________________________________________________________\n",
      "activation_49 (Activation)   (None, 21, 344)           0         \n",
      "=================================================================\n",
      "Total params: 533,336\n",
      "Trainable params: 533,336\n",
      "Non-trainable params: 0\n",
      "_________________________________________________________________\n",
      "None\n"
     ]
    }
   ],
   "source": [
    "def embed_model(input_shape, output_sequence_length, english_vocab_size, french_vocab_size):\n",
    "    \"\"\"\n",
    "    Build and train a RNN model using word embedding on x and y\n",
    "    :param input_shape: Tuple of input shape\n",
    "    :param output_sequence_length: Length of output sequence\n",
    "    :param english_vocab_size: Number of unique English words in the dataset\n",
    "    :param french_vocab_size: Number of unique French words in the dataset\n",
    "    :return: Keras model built, but not trained\n",
    "    \"\"\"\n",
    "\n",
    "    learning_rate = 1e-3\n",
    "    input_seq = Input(shape = input_shape[1:])\n",
    "    embed = Embedding(english_vocab_size, 256)(input_seq)\n",
    "    rnn = GRU(256, return_sequences=True)(embed)\n",
    "    logits = TimeDistributed(Dense(french_vocab_size))(rnn)\n",
    "    model = Model(input_seq, Activation('softmax')(logits))\n",
    "    model.compile(loss=sparse_categorical_crossentropy,\n",
    "                  optimizer=Adam(learning_rate),\n",
    "                  metrics=['accuracy'])\n",
    "    return model\n",
    "\n",
    "\n",
    "tests.test_embed_model(embed_model)\n",
    "\n",
    "\n",
    "# TODO: Reshape the input\n",
    "tmp_x = pad(preproc_english_sentences, max_french_sequence_length)\n",
    "tmp_x = tmp_x.reshape((-1, preproc_french_sentences.shape[-2]))\n",
    "\n",
    "# TODO: Train the neural network\n",
    "embed_rnn_model = embed_model(\n",
    "    tmp_x.shape,\n",
    "    max_french_sequence_length,\n",
    "    english_vocab_size,\n",
    "    french_vocab_size)\n",
    "embed_rnn_model.fit(tmp_x, preproc_french_sentences, batch_size=1024, epochs=10, validation_split=0.2)\n",
    "\n",
    "# TODO: Print prediction(s)\n",
    "print(logits_to_text(embed_rnn_model.predict(tmp_x[:1])[0], french_tokenizer))\n",
    "\n",
    "\n",
    "# Print model\n",
    "print(embed_rnn_model.summary())"
   ]
  },
  {
   "cell_type": "markdown",
   "metadata": {},
   "source": [
    "### Model 3: Bidirectional RNNs (IMPLEMENTATION)\n",
    "![RNN](images/bidirectional.png)\n",
    "One restriction of a RNN is that it can't see the future input, only the past.  This is where bidirectional recurrent neural networks come in.  They are able to see the future data."
   ]
  },
  {
   "cell_type": "code",
   "execution_count": 22,
   "metadata": {},
   "outputs": [
    {
     "name": "stdout",
     "output_type": "stream",
     "text": [
      "Train on 110288 samples, validate on 27573 samples\n",
      "Epoch 1/10\n",
      "110288/110288 [==============================] - 19s 176us/step - loss: 2.1389 - acc: 0.5497 - val_loss: nan - val_acc: 0.6135\n",
      "Epoch 2/10\n",
      "110288/110288 [==============================] - 18s 162us/step - loss: 1.3625 - acc: 0.6263 - val_loss: nan - val_acc: 0.6452\n",
      "Epoch 3/10\n",
      "110288/110288 [==============================] - 18s 162us/step - loss: 1.2135 - acc: 0.6514 - val_loss: nan - val_acc: 0.6626\n",
      "Epoch 4/10\n",
      "110288/110288 [==============================] - 18s 162us/step - loss: 1.1215 - acc: 0.6713 - val_loss: nan - val_acc: 0.6799\n",
      "Epoch 5/10\n",
      "110288/110288 [==============================] - 18s 163us/step - loss: 1.0490 - acc: 0.6844 - val_loss: nan - val_acc: 0.6865\n",
      "Epoch 6/10\n",
      "110288/110288 [==============================] - 18s 163us/step - loss: 0.9930 - acc: 0.6928 - val_loss: nan - val_acc: 0.6981\n",
      "Epoch 7/10\n",
      "110288/110288 [==============================] - 18s 162us/step - loss: 0.9480 - acc: 0.7000 - val_loss: nan - val_acc: 0.7039\n",
      "Epoch 8/10\n",
      "110288/110288 [==============================] - 18s 163us/step - loss: 0.9088 - acc: 0.7071 - val_loss: nan - val_acc: 0.7106\n",
      "Epoch 9/10\n",
      "110288/110288 [==============================] - 18s 162us/step - loss: 0.8763 - acc: 0.7123 - val_loss: nan - val_acc: 0.7157\n",
      "Epoch 10/10\n",
      "110288/110288 [==============================] - 18s 162us/step - loss: 0.8449 - acc: 0.7188 - val_loss: nan - val_acc: 0.7242\n",
      "new jersey est parfois calme en mois de il est est en en <PAD> <PAD> <PAD> <PAD> <PAD> <PAD> <PAD> <PAD>\n",
      "_________________________________________________________________\n",
      "Layer (type)                 Output Shape              Param #   \n",
      "=================================================================\n",
      "input_24 (InputLayer)        (None, 21, 1)             0         \n",
      "_________________________________________________________________\n",
      "bidirectional_8 (Bidirection (None, 21, 512)           396288    \n",
      "_________________________________________________________________\n",
      "time_distributed_24 (TimeDis (None, 21, 344)           176472    \n",
      "_________________________________________________________________\n",
      "activation_24 (Activation)   (None, 21, 344)           0         \n",
      "=================================================================\n",
      "Total params: 572,760\n",
      "Trainable params: 572,760\n",
      "Non-trainable params: 0\n",
      "_________________________________________________________________\n",
      "None\n"
     ]
    }
   ],
   "source": [
    "def bd_model(input_shape, output_sequence_length, english_vocab_size, french_vocab_size):\n",
    "    \"\"\"\n",
    "    Build and train a bidirectional RNN model on x and y\n",
    "    :param input_shape: Tuple of input shape\n",
    "    :param output_sequence_length: Length of output sequence\n",
    "    :param english_vocab_size: Number of unique English words in the dataset\n",
    "    :param french_vocab_size: Number of unique French words in the dataset\n",
    "    :return: Keras model built, but not trained\n",
    "    \"\"\"\n",
    "    # TODO: Implement\n",
    "    learning_rate = 1e-3\n",
    "    input_seq = Input(shape = input_shape[1:])\n",
    "    rnn = Bidirectional(GRU(256, return_sequences=True))(input_seq)\n",
    "    logits = TimeDistributed(Dense(french_vocab_size))(rnn)\n",
    "    model = Model(input_seq, Activation('softmax')(logits))\n",
    "    model.compile(loss=sparse_categorical_crossentropy,\n",
    "                  optimizer=Adam(learning_rate),\n",
    "                  metrics=['accuracy'])\n",
    "    return model\n",
    "\n",
    "tests.test_bd_model(bd_model)\n",
    "\n",
    "\n",
    "# TODO: Train and Print prediction(s)\n",
    "tmp_x = pad(preproc_english_sentences, max_french_sequence_length)\n",
    "tmp_x = tmp_x.reshape((-1, preproc_french_sentences.shape[-2], 1))\n",
    "\n",
    "# Train the neural network\n",
    "bd_rnn_model = bd_model(\n",
    "    tmp_x.shape,\n",
    "    max_french_sequence_length,\n",
    "    english_vocab_size,\n",
    "    french_vocab_size)\n",
    "bd_rnn_model.fit(tmp_x, preproc_french_sentences, batch_size=1024, epochs=10, validation_split=0.2)\n",
    "\n",
    "# Print prediction(s)\n",
    "print(logits_to_text(bd_rnn_model.predict(tmp_x[:1])[0], french_tokenizer))\n",
    "\n",
    "# Print model\n",
    "print(bd_rnn_model.summary())"
   ]
  },
  {
   "cell_type": "markdown",
   "metadata": {},
   "source": [
    "### Model 4: Encoder-Decoder (OPTIONAL)\n",
    "Time to look at encoder-decoder models.  This model is made up of an encoder and decoder. The encoder creates a matrix representation of the sentence.  The decoder takes this matrix as input and predicts the translation as output.\n",
    "\n",
    "Create an encoder-decoder model in the cell below."
   ]
  },
  {
   "cell_type": "code",
   "execution_count": 21,
   "metadata": {
    "scrolled": false
   },
   "outputs": [
    {
     "name": "stdout",
     "output_type": "stream",
     "text": [
      "Train on 110288 samples, validate on 27573 samples\n",
      "Epoch 1/10\n",
      "110288/110288 [==============================] - 85s 770us/step - loss: 2.0949 - acc: 0.5186 - val_loss: nan - val_acc: 0.6052\n",
      "Epoch 2/10\n",
      "110288/110288 [==============================] - 83s 754us/step - loss: 1.3553 - acc: 0.6209 - val_loss: nan - val_acc: 0.6479\n",
      "Epoch 3/10\n",
      "110288/110288 [==============================] - 83s 754us/step - loss: 1.1719 - acc: 0.6545 - val_loss: nan - val_acc: 0.6713\n",
      "Epoch 4/10\n",
      "110288/110288 [==============================] - 83s 754us/step - loss: 1.0681 - acc: 0.6709 - val_loss: nan - val_acc: 0.6774\n",
      "Epoch 5/10\n",
      "110288/110288 [==============================] - 83s 753us/step - loss: 0.9890 - acc: 0.6855 - val_loss: nan - val_acc: 0.6873\n",
      "Epoch 6/10\n",
      "110288/110288 [==============================] - 83s 753us/step - loss: 0.8964 - acc: 0.7077 - val_loss: nan - val_acc: 0.7152\n",
      "Epoch 7/10\n",
      "110288/110288 [==============================] - 83s 754us/step - loss: 0.8342 - acc: 0.7190 - val_loss: nan - val_acc: 0.7356\n",
      "Epoch 8/10\n",
      "110288/110288 [==============================] - 83s 753us/step - loss: 0.7432 - acc: 0.7451 - val_loss: nan - val_acc: 0.7466\n",
      "Epoch 9/10\n",
      "110288/110288 [==============================] - 83s 751us/step - loss: 0.7326 - acc: 0.7437 - val_loss: nan - val_acc: 0.7680\n",
      "Epoch 10/10\n",
      "110288/110288 [==============================] - 83s 752us/step - loss: 0.6602 - acc: 0.7682 - val_loss: nan - val_acc: 0.7643\n",
      "new jersey est parfois chaud au l' et il et il est chaud en avril <PAD> <PAD> <PAD> <PAD> <PAD> <PAD>\n",
      "_________________________________________________________________\n",
      "Layer (type)                 Output Shape              Param #   \n",
      "=================================================================\n",
      "input_12 (InputLayer)        (None, 15, 1)             0         \n",
      "_________________________________________________________________\n",
      "bidirectional_13 (Bidirectio (None, 1024)              1579008   \n",
      "_________________________________________________________________\n",
      "repeat_vector_5 (RepeatVecto (None, 21, 1024)          0         \n",
      "_________________________________________________________________\n",
      "bidirectional_14 (Bidirectio (None, 21, 1024)          4721664   \n",
      "_________________________________________________________________\n",
      "time_distributed_6 (TimeDist (None, 21, 344)           352600    \n",
      "_________________________________________________________________\n",
      "activation_6 (Activation)    (None, 21, 344)           0         \n",
      "=================================================================\n",
      "Total params: 6,653,272\n",
      "Trainable params: 6,653,272\n",
      "Non-trainable params: 0\n",
      "_________________________________________________________________\n",
      "None\n"
     ]
    }
   ],
   "source": [
    "def encdec_model(input_shape, output_sequence_length, english_vocab_size, french_vocab_size):\n",
    "    \"\"\"\n",
    "    Build and train an encoder-decoder model on x and y\n",
    "    :param input_shape: Tuple of input shape\n",
    "    :param output_sequence_length: Length of output sequence\n",
    "    :param english_vocab_size: Number of unique English words in the dataset\n",
    "    :param french_vocab_size: Number of unique French words in the dataset\n",
    "    :return: Keras model built, but not trained\n",
    "    \"\"\"\n",
    "    # OPTIONAL: Implement\n",
    "    learning_rate = 1e-3\n",
    "    encoder_input_seq = Input(shape = input_shape[1:])\n",
    "    encoder_output = Bidirectional(GRU(256, return_sequences=False))(encoder_input_seq)\n",
    "    decoder_rep = RepeatVector(output_sequence_length)(encoder_output)\n",
    "    decoder_output = Bidirectional(GRU(256, return_sequences=True))(decoder_rep)\n",
    "    logits = TimeDistributed(Dense(french_vocab_size))(decoder_output)\n",
    "    model = Model(encoder_input_seq, Activation('softmax')(logits))\n",
    "    model.compile(loss=sparse_categorical_crossentropy,\n",
    "                  optimizer=Adam(learning_rate),\n",
    "                  metrics=['accuracy'])\n",
    "    return model\n",
    "\n",
    "tests.test_encdec_model(encdec_model)\n",
    "\n",
    "\n",
    "# OPTIONAL: Train and Print prediction(s)\n",
    "tmp_x = preproc_english_sentences\n",
    "tmp_x = tmp_x.reshape((-1, preproc_english_sentences.shape[-1], 1))\n",
    "\n",
    "# Train the neural network\n",
    "encdec_rnn_model = encdec_model(\n",
    "    tmp_x.shape,\n",
    "    max_french_sequence_length,\n",
    "    english_vocab_size,\n",
    "    french_vocab_size)\n",
    "encdec_rnn_model.fit(tmp_x, preproc_french_sentences, batch_size=1024, epochs=10, validation_split=0.2)\n",
    "\n",
    "# Print prediction(s)\n",
    "print(logits_to_text(encdec_rnn_model.predict(tmp_x[:1])[0], french_tokenizer))\n",
    "\n",
    "# Print model\n",
    "print(encdec_rnn_model.summary())"
   ]
  },
  {
   "cell_type": "markdown",
   "metadata": {},
   "source": [
    "### Model 5: Custom (IMPLEMENTATION)\n",
    "Use everything you learned from the previous models to create a model that incorporates embedding and a bidirectional rnn into one model."
   ]
  },
  {
   "cell_type": "code",
   "execution_count": 31,
   "metadata": {
    "scrolled": false
   },
   "outputs": [
    {
     "name": "stdout",
     "output_type": "stream",
     "text": [
      "Final Model Loaded\n",
      "Train on 110288 samples, validate on 27573 samples\n",
      "Epoch 1/10\n",
      "110288/110288 [==============================] - 53s 484us/step - loss: 2.3503 - acc: 0.4917 - val_loss: nan - val_acc: 0.5849\n",
      "Epoch 2/10\n",
      "110288/110288 [==============================] - 51s 464us/step - loss: 1.4361 - acc: 0.6281 - val_loss: nan - val_acc: 0.6772\n",
      "Epoch 3/10\n",
      "110288/110288 [==============================] - 51s 464us/step - loss: 1.0877 - acc: 0.7053 - val_loss: nan - val_acc: 0.7309\n",
      "Epoch 4/10\n",
      "110288/110288 [==============================] - 51s 464us/step - loss: 0.8828 - acc: 0.7491 - val_loss: nan - val_acc: 0.7721\n",
      "Epoch 5/10\n",
      "110288/110288 [==============================] - 51s 464us/step - loss: 0.7163 - acc: 0.7921 - val_loss: nan - val_acc: 0.8119\n",
      "Epoch 6/10\n",
      "110288/110288 [==============================] - 51s 464us/step - loss: 0.5990 - acc: 0.8251 - val_loss: nan - val_acc: 0.8491\n",
      "Epoch 7/10\n",
      "110288/110288 [==============================] - 51s 464us/step - loss: 0.4571 - acc: 0.8717 - val_loss: nan - val_acc: 0.8878\n",
      "Epoch 8/10\n",
      "110288/110288 [==============================] - 51s 464us/step - loss: 0.3528 - acc: 0.9033 - val_loss: nan - val_acc: 0.9158\n",
      "Epoch 9/10\n",
      "110288/110288 [==============================] - 51s 463us/step - loss: 0.2717 - acc: 0.9284 - val_loss: nan - val_acc: 0.9343\n",
      "Epoch 10/10\n",
      "110288/110288 [==============================] - 51s 465us/step - loss: 0.2166 - acc: 0.9431 - val_loss: nan - val_acc: 0.9429\n",
      "new jersey est parfois calme pendant l' automne automne il est neigeux en avril <PAD> <PAD> <PAD> <PAD> <PAD> <PAD> <PAD>\n",
      "_________________________________________________________________\n",
      "Layer (type)                 Output Shape              Param #   \n",
      "=================================================================\n",
      "input_22 (InputLayer)        (None, 15)                0         \n",
      "_________________________________________________________________\n",
      "embedding_17 (Embedding)     (None, 15, 1024)          203776    \n",
      "_________________________________________________________________\n",
      "bidirectional_30 (Bidirectio (None, 512)               1967616   \n",
      "_________________________________________________________________\n",
      "repeat_vector_15 (RepeatVect (None, 21, 512)           0         \n",
      "_________________________________________________________________\n",
      "bidirectional_31 (Bidirectio (None, 21, 512)           1181184   \n",
      "_________________________________________________________________\n",
      "time_distributed_14 (TimeDis (None, 21, 344)           176472    \n",
      "_________________________________________________________________\n",
      "activation_14 (Activation)   (None, 21, 344)           0         \n",
      "=================================================================\n",
      "Total params: 3,529,048\n",
      "Trainable params: 3,529,048\n",
      "Non-trainable params: 0\n",
      "_________________________________________________________________\n",
      "None\n"
     ]
    }
   ],
   "source": [
    "def model_final(input_shape, output_sequence_length, english_vocab_size, french_vocab_size):\n",
    "    \"\"\"\n",
    "    Build and train a model that incorporates embedding, encoder-decoder, and bidirectional RNN on x and y\n",
    "    :param input_shape: Tuple of input shape\n",
    "    :param output_sequence_length: Length of output sequence\n",
    "    :param english_vocab_size: Number of unique English words in the dataset\n",
    "    :param french_vocab_size: Number of unique French words in the dataset\n",
    "    :return: Keras model built, but not trained\n",
    "    \"\"\"\n",
    "    # TODO: Implement\n",
    "    learning_rate = 1e-3\n",
    "    encoder_input_seq = Input(shape = input_shape[1:])\n",
    "    encoder_embed = Embedding(english_vocab_size, 1024)(encoder_input_seq)\n",
    "    encoder_output = Bidirectional(GRU(256, return_sequences=False))(encoder_embed)\n",
    "    decoder_output = RepeatVector(output_sequence_length)(encoder_output)\n",
    "    decoder_output = Bidirectional(GRU(256, return_sequences=True))(decoder_output)\n",
    "    logits = TimeDistributed(Dense(french_vocab_size))(decoder_output)\n",
    "    model = Model(encoder_input_seq, Activation('softmax')(logits))\n",
    "    model.compile(loss=sparse_categorical_crossentropy,\n",
    "                  optimizer=Adam(learning_rate),\n",
    "                  metrics=['accuracy'])\n",
    "    return model\n",
    "\n",
    "tests.test_model_final(model_final)\n",
    "\n",
    "\n",
    "print('Final Model Loaded')\n",
    "\n",
    "# TODO: Train the final model\n",
    "tmp_x = preproc_english_sentences\n",
    "tmp_x = tmp_x.reshape((-1, preproc_english_sentences.shape[-1]))\n",
    "\n",
    "# Train the neural network\n",
    "final_rnn_model = model_final(\n",
    "    tmp_x.shape,\n",
    "    max_french_sequence_length,\n",
    "    english_vocab_size,\n",
    "    french_vocab_size)\n",
    "final_rnn_model.fit(tmp_x, preproc_french_sentences, batch_size=1024, epochs=10, validation_split=0.2)\n",
    "# Print prediction(s)\n",
    "print(logits_to_text(final_rnn_model.predict(tmp_x[:1])[0], french_tokenizer))\n",
    "\n",
    "# Print model\n",
    "print(final_rnn_model.summary())"
   ]
  },
  {
   "cell_type": "markdown",
   "metadata": {},
   "source": [
    "## Prediction (IMPLEMENTATION)"
   ]
  },
  {
   "cell_type": "code",
   "execution_count": 33,
   "metadata": {},
   "outputs": [
    {
     "name": "stdout",
     "output_type": "stream",
     "text": [
      "Train on 110288 samples, validate on 27573 samples\n",
      "Epoch 1/15\n",
      "110288/110288 [==============================] - 54s 487us/step - loss: 2.3665 - acc: 0.4888 - val_loss: nan - val_acc: 0.5762\n",
      "Epoch 2/15\n",
      "110288/110288 [==============================] - 51s 465us/step - loss: 1.4089 - acc: 0.6291 - val_loss: nan - val_acc: 0.6726\n",
      "Epoch 3/15\n",
      "110288/110288 [==============================] - 51s 464us/step - loss: 1.0563 - acc: 0.7079 - val_loss: nan - val_acc: 0.7407\n",
      "Epoch 4/15\n",
      "110288/110288 [==============================] - 51s 464us/step - loss: 0.8455 - acc: 0.7579 - val_loss: nan - val_acc: 0.7759\n",
      "Epoch 5/15\n",
      "110288/110288 [==============================] - 51s 464us/step - loss: 0.6985 - acc: 0.7975 - val_loss: nan - val_acc: 0.8177\n",
      "Epoch 6/15\n",
      "110288/110288 [==============================] - 51s 464us/step - loss: 0.5702 - acc: 0.8363 - val_loss: nan - val_acc: 0.8493\n",
      "Epoch 7/15\n",
      "110288/110288 [==============================] - 51s 464us/step - loss: 0.4728 - acc: 0.8668 - val_loss: nan - val_acc: 0.8845\n",
      "Epoch 8/15\n",
      "110288/110288 [==============================] - 51s 464us/step - loss: 0.3573 - acc: 0.9032 - val_loss: nan - val_acc: 0.9122\n",
      "Epoch 9/15\n",
      "110288/110288 [==============================] - 51s 464us/step - loss: 0.2789 - acc: 0.9262 - val_loss: nan - val_acc: 0.9315\n",
      "Epoch 10/15\n",
      "110288/110288 [==============================] - 51s 464us/step - loss: 0.2245 - acc: 0.9408 - val_loss: nan - val_acc: 0.9397\n",
      "Epoch 11/15\n",
      "110288/110288 [==============================] - 51s 464us/step - loss: 0.1828 - acc: 0.9514 - val_loss: nan - val_acc: 0.9539\n",
      "Epoch 12/15\n",
      "110288/110288 [==============================] - 51s 464us/step - loss: 0.1528 - acc: 0.9590 - val_loss: nan - val_acc: 0.9575\n",
      "Epoch 13/15\n",
      "110288/110288 [==============================] - 51s 464us/step - loss: 0.1312 - acc: 0.9645 - val_loss: nan - val_acc: 0.9602\n",
      "Epoch 14/15\n",
      "110288/110288 [==============================] - 51s 464us/step - loss: 0.1134 - acc: 0.9688 - val_loss: nan - val_acc: 0.9640\n",
      "Epoch 15/15\n",
      "110288/110288 [==============================] - 51s 464us/step - loss: 0.1034 - acc: 0.9711 - val_loss: nan - val_acc: 0.9681\n",
      "Sample 1:\n",
      "il a vu un vieux camion jaune <PAD> <PAD> <PAD> <PAD> <PAD> <PAD> <PAD> <PAD> <PAD> <PAD> <PAD> <PAD> <PAD> <PAD>\n",
      "Il a vu un vieux camion jaune\n",
      "Sample 2:\n",
      "new jersey est parfois calme pendant l' automne et il est neigeux en avril <PAD> <PAD> <PAD> <PAD> <PAD> <PAD> <PAD>\n",
      "new jersey est parfois calme pendant l' automne et il est neigeux en avril <PAD> <PAD> <PAD> <PAD> <PAD> <PAD> <PAD>\n"
     ]
    }
   ],
   "source": [
    "def final_predictions(x, y, x_tk, y_tk):\n",
    "    \"\"\"\n",
    "    Gets predictions using the final model\n",
    "    :param x: Preprocessed English data\n",
    "    :param y: Preprocessed French data\n",
    "    :param x_tk: English tokenizer\n",
    "    :param y_tk: French tokenizer\n",
    "    \"\"\"\n",
    "    # TODO: Train neural network using model_final\n",
    "    max_x_sequence_length = x.shape[1]\n",
    "    max_y_sequence_length = y.shape[1]\n",
    "    x_vocab_size = len(x_tk.word_index)\n",
    "    y_vocab_size = len(y_tk.word_index)\n",
    "    tmp_x = x.reshape((-1, x.shape[-1]))\n",
    "    model = model_final(\n",
    "    tmp_x.shape,\n",
    "    max_y_sequence_length,\n",
    "    x_vocab_size,\n",
    "    y_vocab_size)\n",
    "    model.fit(tmp_x, y, batch_size=1024, epochs=15, validation_split=0.2)\n",
    "\n",
    "    \n",
    "    ## DON'T EDIT ANYTHING BELOW THIS LINE\n",
    "    y_id_to_word = {value: key for key, value in y_tk.word_index.items()}\n",
    "    y_id_to_word[0] = '<PAD>'\n",
    "\n",
    "    sentence = 'he saw a old yellow truck'\n",
    "    sentence = [x_tk.word_index[word] for word in sentence.split()]\n",
    "    sentence = pad_sequences([sentence], maxlen=x.shape[-1], padding='post')\n",
    "    sentences = np.array([sentence[0], x[0]])\n",
    "    predictions = model.predict(sentences, len(sentences))\n",
    "\n",
    "    print('Sample 1:')\n",
    "    print(' '.join([y_id_to_word[np.argmax(x)] for x in predictions[0]]))\n",
    "    print('Il a vu un vieux camion jaune')\n",
    "    print('Sample 2:')\n",
    "    print(' '.join([y_id_to_word[np.argmax(x)] for x in predictions[1]]))\n",
    "    print(' '.join([y_id_to_word[np.max(x)] for x in y[0]]))\n",
    "\n",
    "\n",
    "final_predictions(preproc_english_sentences, preproc_french_sentences, english_tokenizer, french_tokenizer)"
   ]
  },
  {
   "cell_type": "markdown",
   "metadata": {},
   "source": [
    "## Submission\n",
    "When you're ready to submit, complete the following steps:\n",
    "1. Review the [rubric](https://review.udacity.com/#!/rubrics/1004/view) to ensure your submission meets all requirements to pass\n",
    "2. Generate an HTML version of this notebook\n",
    "\n",
    "  - Run the next cell to attempt automatic generation (this is the recommended method in Workspaces)\n",
    "  - Navigate to **FILE -> Download as -> HTML (.html)**\n",
    "  - Manually generate a copy using `nbconvert` from your shell terminal\n",
    "```\n",
    "$ pip install nbconvert\n",
    "$ python -m nbconvert machine_translation.ipynb\n",
    "```\n",
    "  \n",
    "3. Submit the project\n",
    "\n",
    "  - If you are in a Workspace, simply click the \"Submit Project\" button (bottom towards the right)\n",
    "  \n",
    "  - Otherwise, add the following files into a zip archive and submit them \n",
    "  - `helper.py`\n",
    "  - `machine_translation.ipynb`\n",
    "  - `machine_translation.html`\n",
    "    - You can export the notebook by navigating to **File -> Download as -> HTML (.html)**."
   ]
  },
  {
   "cell_type": "markdown",
   "metadata": {},
   "source": [
    "### Generate the html\n",
    "\n",
    "**Save your notebook before running the next cell to generate the HTML output.** Then submit your project."
   ]
  },
  {
   "cell_type": "code",
   "execution_count": 36,
   "metadata": {},
   "outputs": [
    {
     "data": {
      "text/plain": [
       "['[NbConvertApp] Converting notebook machine_translation.ipynb to html',\n",
       " '[NbConvertApp] Writing 349879 bytes to machine_translation.html']"
      ]
     },
     "execution_count": 36,
     "metadata": {},
     "output_type": "execute_result"
    }
   ],
   "source": [
    "# Save before you run this cell!\n",
    "!!jupyter nbconvert *.ipynb"
   ]
  },
  {
   "cell_type": "markdown",
   "metadata": {},
   "source": [
    "## Optional Enhancements\n",
    "\n",
    "This project focuses on learning various network architectures for machine translation, but we don't evaluate the models according to best practices by splitting the data into separate test & training sets -- so the model accuracy is overstated. Use the [`sklearn.model_selection.train_test_split()`](http://scikit-learn.org/stable/modules/generated/sklearn.model_selection.train_test_split.html) function to create separate training & test datasets, then retrain each of the models using only the training set and evaluate the prediction accuracy using the hold out test set. Does the \"best\" model change?"
   ]
  }
 ],
 "metadata": {
  "kernelspec": {
   "display_name": "Python 3",
   "language": "python",
   "name": "python3"
  },
  "language_info": {
   "codemirror_mode": {
    "name": "ipython",
    "version": 3
   },
   "file_extension": ".py",
   "mimetype": "text/x-python",
   "name": "python",
   "nbconvert_exporter": "python",
   "pygments_lexer": "ipython3",
   "version": "3.6.3"
  }
 },
 "nbformat": 4,
 "nbformat_minor": 1
}
